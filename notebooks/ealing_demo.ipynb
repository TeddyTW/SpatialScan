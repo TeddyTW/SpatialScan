{
 "cells": [
  {
   "cell_type": "markdown",
   "metadata": {},
   "source": [
    "# Expectation Based Scan Statistic on Ealing"
   ]
  },
  {
   "cell_type": "code",
   "execution_count": 1,
   "metadata": {},
   "outputs": [],
   "source": [
    "from region import *\n",
    "from scan import *\n",
    "from likelihood import *\n",
    "from results import *\n",
    "from timeseries import *\n",
    "import pandas as pd"
   ]
  },
  {
   "cell_type": "markdown",
   "metadata": {},
   "source": [
    "## Time Series Analysis"
   ]
  },
  {
   "cell_type": "markdown",
   "metadata": {},
   "source": [
    "Output from TSA. For convenience, we just import a csv file with processing already complete. Roughly 30 mins work."
   ]
  },
  {
   "cell_type": "code",
   "execution_count": 2,
   "metadata": {},
   "outputs": [],
   "source": [
    "forecast_df = pd.read_csv(\"../ealing-april-june-forecast-LTSM-1.csv\")\n",
    "forecast_df.drop([\"Unnamed: 0\", \"C/B\"], axis=1, inplace=True)"
   ]
  },
  {
   "cell_type": "markdown",
   "metadata": {},
   "source": [
    "## The Scan"
   ]
  },
  {
   "cell_type": "markdown",
   "metadata": {},
   "source": [
    "Data Checks as a first step - baselines non-negative and dates to datetime. TODO add this function."
   ]
  },
  {
   "cell_type": "code",
   "execution_count": 3,
   "metadata": {},
   "outputs": [
    {
     "data": {
      "text/html": [
       "<div>\n",
       "<style scoped>\n",
       "    .dataframe tbody tr th:only-of-type {\n",
       "        vertical-align: middle;\n",
       "    }\n",
       "\n",
       "    .dataframe tbody tr th {\n",
       "        vertical-align: top;\n",
       "    }\n",
       "\n",
       "    .dataframe thead th {\n",
       "        text-align: right;\n",
       "    }\n",
       "</style>\n",
       "<table border=\"1\" class=\"dataframe\">\n",
       "  <thead>\n",
       "    <tr style=\"text-align: right;\">\n",
       "      <th></th>\n",
       "      <th>detector_id</th>\n",
       "      <th>lon</th>\n",
       "      <th>lat</th>\n",
       "      <th>measurement_start_utc</th>\n",
       "      <th>measurement_end_utc</th>\n",
       "      <th>baseline</th>\n",
       "      <th>count</th>\n",
       "      <th>hour_from_start</th>\n",
       "    </tr>\n",
       "  </thead>\n",
       "  <tbody>\n",
       "    <tr>\n",
       "      <th>0</th>\n",
       "      <td>N28/140h1</td>\n",
       "      <td>-0.278212</td>\n",
       "      <td>51.539003</td>\n",
       "      <td>2020-06-04 00:00:00</td>\n",
       "      <td>2020-06-04 01:00:00</td>\n",
       "      <td>23.822554</td>\n",
       "      <td>16.0</td>\n",
       "      <td>0.0</td>\n",
       "    </tr>\n",
       "    <tr>\n",
       "      <th>1</th>\n",
       "      <td>N28/140h1</td>\n",
       "      <td>-0.278212</td>\n",
       "      <td>51.539003</td>\n",
       "      <td>2020-06-04 01:00:00</td>\n",
       "      <td>2020-06-04 02:00:00</td>\n",
       "      <td>26.402401</td>\n",
       "      <td>28.0</td>\n",
       "      <td>1.0</td>\n",
       "    </tr>\n",
       "    <tr>\n",
       "      <th>2</th>\n",
       "      <td>N28/140h1</td>\n",
       "      <td>-0.278212</td>\n",
       "      <td>51.539003</td>\n",
       "      <td>2020-06-04 02:00:00</td>\n",
       "      <td>2020-06-04 03:00:00</td>\n",
       "      <td>33.188900</td>\n",
       "      <td>14.0</td>\n",
       "      <td>2.0</td>\n",
       "    </tr>\n",
       "    <tr>\n",
       "      <th>3</th>\n",
       "      <td>N28/140h1</td>\n",
       "      <td>-0.278212</td>\n",
       "      <td>51.539003</td>\n",
       "      <td>2020-06-04 03:00:00</td>\n",
       "      <td>2020-06-04 04:00:00</td>\n",
       "      <td>29.973198</td>\n",
       "      <td>27.0</td>\n",
       "      <td>3.0</td>\n",
       "    </tr>\n",
       "    <tr>\n",
       "      <th>4</th>\n",
       "      <td>N28/140h1</td>\n",
       "      <td>-0.278212</td>\n",
       "      <td>51.539003</td>\n",
       "      <td>2020-06-04 04:00:00</td>\n",
       "      <td>2020-06-04 05:00:00</td>\n",
       "      <td>54.348274</td>\n",
       "      <td>70.0</td>\n",
       "      <td>4.0</td>\n",
       "    </tr>\n",
       "    <tr>\n",
       "      <th>...</th>\n",
       "      <td>...</td>\n",
       "      <td>...</td>\n",
       "      <td>...</td>\n",
       "      <td>...</td>\n",
       "      <td>...</td>\n",
       "      <td>...</td>\n",
       "      <td>...</td>\n",
       "      <td>...</td>\n",
       "    </tr>\n",
       "    <tr>\n",
       "      <th>14659</th>\n",
       "      <td>N24/081x1</td>\n",
       "      <td>-0.322762</td>\n",
       "      <td>51.457745</td>\n",
       "      <td>2020-06-04 19:00:00</td>\n",
       "      <td>2020-06-04 20:00:00</td>\n",
       "      <td>187.989140</td>\n",
       "      <td>190.0</td>\n",
       "      <td>19.0</td>\n",
       "    </tr>\n",
       "    <tr>\n",
       "      <th>14660</th>\n",
       "      <td>N24/081x1</td>\n",
       "      <td>-0.322762</td>\n",
       "      <td>51.457745</td>\n",
       "      <td>2020-06-04 20:00:00</td>\n",
       "      <td>2020-06-04 21:00:00</td>\n",
       "      <td>137.350680</td>\n",
       "      <td>118.0</td>\n",
       "      <td>20.0</td>\n",
       "    </tr>\n",
       "    <tr>\n",
       "      <th>14661</th>\n",
       "      <td>N24/081x1</td>\n",
       "      <td>-0.322762</td>\n",
       "      <td>51.457745</td>\n",
       "      <td>2020-06-04 21:00:00</td>\n",
       "      <td>2020-06-04 22:00:00</td>\n",
       "      <td>97.389130</td>\n",
       "      <td>78.0</td>\n",
       "      <td>21.0</td>\n",
       "    </tr>\n",
       "    <tr>\n",
       "      <th>14662</th>\n",
       "      <td>N24/081x1</td>\n",
       "      <td>-0.322762</td>\n",
       "      <td>51.457745</td>\n",
       "      <td>2020-06-04 22:00:00</td>\n",
       "      <td>2020-06-04 23:00:00</td>\n",
       "      <td>74.707466</td>\n",
       "      <td>51.0</td>\n",
       "      <td>22.0</td>\n",
       "    </tr>\n",
       "    <tr>\n",
       "      <th>14663</th>\n",
       "      <td>N24/081x1</td>\n",
       "      <td>-0.322762</td>\n",
       "      <td>51.457745</td>\n",
       "      <td>2020-06-04 23:00:00</td>\n",
       "      <td>2020-06-05 00:00:00</td>\n",
       "      <td>53.815384</td>\n",
       "      <td>31.0</td>\n",
       "      <td>23.0</td>\n",
       "    </tr>\n",
       "  </tbody>\n",
       "</table>\n",
       "<p>14238 rows × 8 columns</p>\n",
       "</div>"
      ],
      "text/plain": [
       "      detector_id       lon        lat measurement_start_utc  \\\n",
       "0       N28/140h1 -0.278212  51.539003   2020-06-04 00:00:00   \n",
       "1       N28/140h1 -0.278212  51.539003   2020-06-04 01:00:00   \n",
       "2       N28/140h1 -0.278212  51.539003   2020-06-04 02:00:00   \n",
       "3       N28/140h1 -0.278212  51.539003   2020-06-04 03:00:00   \n",
       "4       N28/140h1 -0.278212  51.539003   2020-06-04 04:00:00   \n",
       "...           ...       ...        ...                   ...   \n",
       "14659   N24/081x1 -0.322762  51.457745   2020-06-04 19:00:00   \n",
       "14660   N24/081x1 -0.322762  51.457745   2020-06-04 20:00:00   \n",
       "14661   N24/081x1 -0.322762  51.457745   2020-06-04 21:00:00   \n",
       "14662   N24/081x1 -0.322762  51.457745   2020-06-04 22:00:00   \n",
       "14663   N24/081x1 -0.322762  51.457745   2020-06-04 23:00:00   \n",
       "\n",
       "      measurement_end_utc    baseline  count  hour_from_start  \n",
       "0     2020-06-04 01:00:00   23.822554   16.0              0.0  \n",
       "1     2020-06-04 02:00:00   26.402401   28.0              1.0  \n",
       "2     2020-06-04 03:00:00   33.188900   14.0              2.0  \n",
       "3     2020-06-04 04:00:00   29.973198   27.0              3.0  \n",
       "4     2020-06-04 05:00:00   54.348274   70.0              4.0  \n",
       "...                   ...         ...    ...              ...  \n",
       "14659 2020-06-04 20:00:00  187.989140  190.0             19.0  \n",
       "14660 2020-06-04 21:00:00  137.350680  118.0             20.0  \n",
       "14661 2020-06-04 22:00:00   97.389130   78.0             21.0  \n",
       "14662 2020-06-04 23:00:00   74.707466   51.0             22.0  \n",
       "14663 2020-06-05 00:00:00   53.815384   31.0             23.0  \n",
       "\n",
       "[14238 rows x 8 columns]"
      ]
     },
     "execution_count": 3,
     "metadata": {},
     "output_type": "execute_result"
    }
   ],
   "source": [
    "forecast_df = convert_dates(forecast_df)\n",
    "forecast_df['baseline'] = forecast_df['baseline'].apply(lambda x : np.max([0, x]))\n",
    "# How many to drop? Print how many logging important function.\n",
    "forecast_df.dropna(inplace=True)\n",
    "forecast_df"
   ]
  },
  {
   "cell_type": "markdown",
   "metadata": {},
   "source": [
    "`infer_global_region()`"
   ]
  },
  {
   "cell_type": "code",
   "execution_count": 4,
   "metadata": {},
   "outputs": [
    {
     "name": "stdout",
     "output_type": "stream",
     "text": [
      "(-0.349749335498348, -0.25041616657384697) x (51.450833237060785, 51.5408981075881) x (2020-06-04 00:00:00, 2020-06-05 00:00:00)\n"
     ]
    }
   ],
   "source": [
    "print(infer_global_region(forecast_df))"
   ]
  },
  {
   "cell_type": "markdown",
   "metadata": {},
   "source": [
    "### `plot_global_region()`"
   ]
  },
  {
   "cell_type": "markdown",
   "metadata": {},
   "source": [
    "First choose a date to look at activity."
   ]
  },
  {
   "cell_type": "code",
   "execution_count": 5,
   "metadata": {},
   "outputs": [],
   "source": [
    "test_date = forecast_df[\"measurement_end_utc\"].iloc[0]"
   ]
  },
  {
   "cell_type": "code",
   "execution_count": 8,
   "metadata": {},
   "outputs": [
    {
     "data": {
      "image/png": "[encoded data removed]",
      "text/plain": [
       "<Figure size 432x288 with 1 Axes>"
      ]
     },
     "metadata": {
      "needs_background": "light"
     },
     "output_type": "display_data"
    }
   ],
   "source": [
    "plot_global_region(forecast_df, test_date, overlay_grid=True, grid_partition=8, plot_type='cb_ratio', add_legend=True)"
   ]
  },
  {
   "cell_type": "markdown",
   "metadata": {},
   "source": [
    "Then, we can run the model ..."
   ]
  },
  {
   "cell_type": "markdown",
   "metadata": {},
   "source": [
    "### `EBP()`"
   ]
  },
  {
   "cell_type": "code",
   "execution_count": 9,
   "metadata": {},
   "outputs": [
    {
     "name": "stdout",
     "output_type": "stream",
     "text": [
      "100.00% complete.\n",
      "16224 space-time regions searched in 44.47 seconds\n"
     ]
    }
   ],
   "source": [
    "res_df = EBP(forecast_df, 8)"
   ]
  },
  {
   "cell_type": "code",
   "execution_count": 10,
   "metadata": {},
   "outputs": [
    {
     "data": {
      "text/html": [
       "<div>\n",
       "<style scoped>\n",
       "    .dataframe tbody tr th:only-of-type {\n",
       "        vertical-align: middle;\n",
       "    }\n",
       "\n",
       "    .dataframe tbody tr th {\n",
       "        vertical-align: top;\n",
       "    }\n",
       "\n",
       "    .dataframe thead th {\n",
       "        text-align: right;\n",
       "    }\n",
       "</style>\n",
       "<table border=\"1\" class=\"dataframe\">\n",
       "  <thead>\n",
       "    <tr style=\"text-align: right;\">\n",
       "      <th></th>\n",
       "      <th>x_min</th>\n",
       "      <th>x_max</th>\n",
       "      <th>y_min</th>\n",
       "      <th>y_max</th>\n",
       "      <th>t_min</th>\n",
       "      <th>t_max</th>\n",
       "      <th>B</th>\n",
       "      <th>C</th>\n",
       "      <th>likelihood_score</th>\n",
       "      <th>p_value</th>\n",
       "    </tr>\n",
       "  </thead>\n",
       "  <tbody>\n",
       "    <tr>\n",
       "      <th>15893</th>\n",
       "      <td>-0.262833</td>\n",
       "      <td>-0.250416</td>\n",
       "      <td>51.484608</td>\n",
       "      <td>51.495866</td>\n",
       "      <td>2020-06-04</td>\n",
       "      <td>2020-06-04 06:00:00</td>\n",
       "      <td>0.016349</td>\n",
       "      <td>0.027149</td>\n",
       "      <td>1.002974</td>\n",
       "      <td>NaN</td>\n",
       "    </tr>\n",
       "    <tr>\n",
       "      <th>15892</th>\n",
       "      <td>-0.262833</td>\n",
       "      <td>-0.250416</td>\n",
       "      <td>51.484608</td>\n",
       "      <td>51.495866</td>\n",
       "      <td>2020-06-04</td>\n",
       "      <td>2020-06-04 05:00:00</td>\n",
       "      <td>0.009781</td>\n",
       "      <td>0.017857</td>\n",
       "      <td>1.002677</td>\n",
       "      <td>NaN</td>\n",
       "    </tr>\n",
       "    <tr>\n",
       "      <th>15891</th>\n",
       "      <td>-0.262833</td>\n",
       "      <td>-0.250416</td>\n",
       "      <td>51.484608</td>\n",
       "      <td>51.495866</td>\n",
       "      <td>2020-06-04</td>\n",
       "      <td>2020-06-04 04:00:00</td>\n",
       "      <td>0.007159</td>\n",
       "      <td>0.014103</td>\n",
       "      <td>1.002622</td>\n",
       "      <td>NaN</td>\n",
       "    </tr>\n",
       "    <tr>\n",
       "      <th>15898</th>\n",
       "      <td>-0.262833</td>\n",
       "      <td>-0.250416</td>\n",
       "      <td>51.484608</td>\n",
       "      <td>51.495866</td>\n",
       "      <td>2020-06-04</td>\n",
       "      <td>2020-06-04 11:00:00</td>\n",
       "      <td>0.070393</td>\n",
       "      <td>0.089597</td>\n",
       "      <td>1.002412</td>\n",
       "      <td>NaN</td>\n",
       "    </tr>\n",
       "    <tr>\n",
       "      <th>15911</th>\n",
       "      <td>-0.262833</td>\n",
       "      <td>-0.250416</td>\n",
       "      <td>51.484608</td>\n",
       "      <td>51.495866</td>\n",
       "      <td>2020-06-04</td>\n",
       "      <td>2020-06-05 00:00:00</td>\n",
       "      <td>0.186017</td>\n",
       "      <td>0.216271</td>\n",
       "      <td>1.002340</td>\n",
       "      <td>NaN</td>\n",
       "    </tr>\n",
       "    <tr>\n",
       "      <th>...</th>\n",
       "      <td>...</td>\n",
       "      <td>...</td>\n",
       "      <td>...</td>\n",
       "      <td>...</td>\n",
       "      <td>...</td>\n",
       "      <td>...</td>\n",
       "      <td>...</td>\n",
       "      <td>...</td>\n",
       "      <td>...</td>\n",
       "      <td>...</td>\n",
       "    </tr>\n",
       "    <tr>\n",
       "      <th>6268</th>\n",
       "      <td>-0.324916</td>\n",
       "      <td>-0.287666</td>\n",
       "      <td>51.450833</td>\n",
       "      <td>51.473349</td>\n",
       "      <td>2020-06-04</td>\n",
       "      <td>2020-06-04 05:00:00</td>\n",
       "      <td>0.024746</td>\n",
       "      <td>0.023080</td>\n",
       "      <td>1.000000</td>\n",
       "      <td>NaN</td>\n",
       "    </tr>\n",
       "    <tr>\n",
       "      <th>6269</th>\n",
       "      <td>-0.324916</td>\n",
       "      <td>-0.287666</td>\n",
       "      <td>51.450833</td>\n",
       "      <td>51.473349</td>\n",
       "      <td>2020-06-04</td>\n",
       "      <td>2020-06-04 06:00:00</td>\n",
       "      <td>0.038790</td>\n",
       "      <td>0.036748</td>\n",
       "      <td>1.000000</td>\n",
       "      <td>NaN</td>\n",
       "    </tr>\n",
       "    <tr>\n",
       "      <th>6270</th>\n",
       "      <td>-0.324916</td>\n",
       "      <td>-0.287666</td>\n",
       "      <td>51.450833</td>\n",
       "      <td>51.473349</td>\n",
       "      <td>2020-06-04</td>\n",
       "      <td>2020-06-04 07:00:00</td>\n",
       "      <td>0.060192</td>\n",
       "      <td>0.058408</td>\n",
       "      <td>1.000000</td>\n",
       "      <td>NaN</td>\n",
       "    </tr>\n",
       "    <tr>\n",
       "      <th>6271</th>\n",
       "      <td>-0.324916</td>\n",
       "      <td>-0.287666</td>\n",
       "      <td>51.450833</td>\n",
       "      <td>51.473349</td>\n",
       "      <td>2020-06-04</td>\n",
       "      <td>2020-06-04 08:00:00</td>\n",
       "      <td>0.081009</td>\n",
       "      <td>0.080421</td>\n",
       "      <td>1.000000</td>\n",
       "      <td>NaN</td>\n",
       "    </tr>\n",
       "    <tr>\n",
       "      <th>16223</th>\n",
       "      <td>-0.262833</td>\n",
       "      <td>-0.250416</td>\n",
       "      <td>51.529640</td>\n",
       "      <td>51.540898</td>\n",
       "      <td>2020-06-04</td>\n",
       "      <td>2020-06-05 00:00:00</td>\n",
       "      <td>0.008104</td>\n",
       "      <td>0.006937</td>\n",
       "      <td>1.000000</td>\n",
       "      <td>NaN</td>\n",
       "    </tr>\n",
       "  </tbody>\n",
       "</table>\n",
       "<p>16224 rows × 10 columns</p>\n",
       "</div>"
      ],
      "text/plain": [
       "          x_min     x_max      y_min      y_max      t_min  \\\n",
       "15893 -0.262833 -0.250416  51.484608  51.495866 2020-06-04   \n",
       "15892 -0.262833 -0.250416  51.484608  51.495866 2020-06-04   \n",
       "15891 -0.262833 -0.250416  51.484608  51.495866 2020-06-04   \n",
       "15898 -0.262833 -0.250416  51.484608  51.495866 2020-06-04   \n",
       "15911 -0.262833 -0.250416  51.484608  51.495866 2020-06-04   \n",
       "...         ...       ...        ...        ...        ...   \n",
       "6268  -0.324916 -0.287666  51.450833  51.473349 2020-06-04   \n",
       "6269  -0.324916 -0.287666  51.450833  51.473349 2020-06-04   \n",
       "6270  -0.324916 -0.287666  51.450833  51.473349 2020-06-04   \n",
       "6271  -0.324916 -0.287666  51.450833  51.473349 2020-06-04   \n",
       "16223 -0.262833 -0.250416  51.529640  51.540898 2020-06-04   \n",
       "\n",
       "                    t_max         B         C  likelihood_score  p_value  \n",
       "15893 2020-06-04 06:00:00  0.016349  0.027149          1.002974      NaN  \n",
       "15892 2020-06-04 05:00:00  0.009781  0.017857          1.002677      NaN  \n",
       "15891 2020-06-04 04:00:00  0.007159  0.014103          1.002622      NaN  \n",
       "15898 2020-06-04 11:00:00  0.070393  0.089597          1.002412      NaN  \n",
       "15911 2020-06-05 00:00:00  0.186017  0.216271          1.002340      NaN  \n",
       "...                   ...       ...       ...               ...      ...  \n",
       "6268  2020-06-04 05:00:00  0.024746  0.023080          1.000000      NaN  \n",
       "6269  2020-06-04 06:00:00  0.038790  0.036748          1.000000      NaN  \n",
       "6270  2020-06-04 07:00:00  0.060192  0.058408          1.000000      NaN  \n",
       "6271  2020-06-04 08:00:00  0.081009  0.080421          1.000000      NaN  \n",
       "16223 2020-06-05 00:00:00  0.008104  0.006937          1.000000      NaN  \n",
       "\n",
       "[16224 rows x 10 columns]"
      ]
     },
     "execution_count": 10,
     "metadata": {},
     "output_type": "execute_result"
    }
   ],
   "source": [
    "res_df"
   ]
  },
  {
   "cell_type": "markdown",
   "metadata": {},
   "source": [
    "Once we have `res_df`, we can do many things..."
   ]
  },
  {
   "cell_type": "markdown",
   "metadata": {},
   "source": [
    "### `plot_region_by_rank()` - See which regions of space are getting the highest F(S) scores"
   ]
  },
  {
   "cell_type": "markdown",
   "metadata": {},
   "source": [
    "Swicth between `plot_types`"
   ]
  },
  {
   "cell_type": "code",
   "execution_count": 13,
   "metadata": {},
   "outputs": [
    {
     "data": {
      "image/png": "[encoded data removed]",
      "text/plain": [
       "<Figure size 432x288 with 1 Axes>"
      ]
     },
     "metadata": {
      "needs_background": "light"
     },
     "output_type": "display_data"
    }
   ],
   "source": [
    "plot_region_by_rank(0, res_df, forecast_df, plot_type='count', add_legend=True)"
   ]
  },
  {
   "cell_type": "markdown",
   "metadata": {},
   "source": [
    "Now suppose I was interested in this highest ranked region and want to look at its time series... Switch the plot type between \"count\", \"baseline\" and \"cb_ratio\"."
   ]
  },
  {
   "cell_type": "code",
   "execution_count": 14,
   "metadata": {},
   "outputs": [
    {
     "data": {
      "image/png": "[encoded data removed]",
      "text/plain": [
       "<Figure size 1080x432 with 1 Axes>"
      ]
     },
     "metadata": {
      "needs_background": "light"
     },
     "output_type": "display_data"
    }
   ],
   "source": [
    "# First create a region object\n",
    "region = make_region_from_res(res_df, rank=0, whole_prediction_period=True)\n",
    "\n",
    "plot_region_time_series(region, forecast_df, plot_type=\"count\", add_legend=False)"
   ]
  },
  {
   "cell_type": "markdown",
   "metadata": {},
   "source": [
    "This highest scoring region contains ~20 detectors  - this is what they do over the whole period."
   ]
  },
  {
   "cell_type": "markdown",
   "metadata": {},
   "source": [
    "#### Average Likelihood Visualisation"
   ]
  },
  {
   "cell_type": "markdown",
   "metadata": {},
   "source": [
    "For each of our `grid_partition` x `grid_parition` cells, we can calculate it's average likelihood accumulated form the overlapping search rectangles. "
   ]
  },
  {
   "cell_type": "code",
   "execution_count": 15,
   "metadata": {},
   "outputs": [],
   "source": [
    "# First call this function to get all plot information\n",
    "scores, x, y, t, av_l_max = average_likelihood(res_df)"
   ]
  },
  {
   "cell_type": "markdown",
   "metadata": {},
   "source": [
    "Now, we can plot using `visualise_results()`"
   ]
  },
  {
   "cell_type": "code",
   "execution_count": 18,
   "metadata": {},
   "outputs": [
    {
     "data": {
      "application/vnd.plotly.v1+json": {
       "config": {
        "plotlyServerURL": "https://plot.ly"
       },
       "data": [
        {
         "colorbar": {
          "title": {
           "text": "Average Likelihood Ratio Score"
          }
         },
         "type": "heatmap",
         "x": [
          "-0.344",
          "-0.331",
          "-0.319",
          "-0.306",
          "-0.294",
          "-0.281",
          "-0.269",
          "-0.257"
         ],
         "y": [
          "51.535",
          "51.524",
          "51.513",
          "51.501",
          "51.490",
          "51.479",
          "51.468",
          "51.456"
         ],
         "z": [
          [
           1,
           1.000045535795889,
           1.0001232001015776,
           1.000194314102745,
           1.0003512546067403,
           1.0002236469842312,
           1.0001296960597303,
           1.0000732916395525
          ],
          [
           1.0000007110486162,
           1.0000766398207759,
           1.0001749327709726,
           1.0002650839530998,
           1.0005129460334898,
           1.0003218604309414,
           1.0002021857361785,
           1.0001054052571265
          ],
          [
           1.0000011060756253,
           1.0001079984175145,
           1.0002367069098808,
           1.0003631789345773,
           1.000755768060717,
           1.000482033396851,
           1.0003481205304143,
           1.0001906464181587
          ],
          [
           1.0000005505196883,
           1.0000574888065863,
           1.000122879629742,
           1.0001902135097538,
           1.0004032325869532,
           1.0002598683838064,
           1.0002418383212583,
           1.0001162026868324
          ],
          [
           1.0000003023808375,
           1.0000178747679505,
           1.0000335350010994,
           1.000058055475379,
           1.0001500734381599,
           1.0001156425587754,
           1.0002255201740484,
           1.000098757585826
          ],
          [
           1.0000004373544968,
           1.000005003364617,
           1.0000095737122514,
           1.000017888301465,
           1.0000486458238333,
           1.0000397215506225,
           1.0001183777632754,
           1.0000481546127054
          ],
          [
           1.0000023069106974,
           1.0000017726654904,
           1.0000002642207835,
           1.0000003361751273,
           1.000001939675957,
           1.0000078734092104,
           1.0000497711119778,
           1.000017275626822
          ],
          [
           1.0000078820156846,
           1.000006283636083,
           1.000001266591723,
           1.0000005501985185,
           1.0000011816207592,
           1.000004896531549,
           1.000031645309318,
           1.0000117999631721
          ]
         ],
         "zmax": 1.0014910330153701,
         "zmin": 1
        }
       ],
       "frames": [
        {
         "data": [
          {
           "type": "heatmap",
           "z": [
            [
             1,
             1.000035760217539,
             1.000101480635675,
             1.000152314005027,
             1.0002772077385547,
             1.0001707294003606,
             1.0000925760819215,
             1.000047351319433
            ],
            [
             1.0000001343640594,
             1.0000621393540048,
             1.000136848452828,
             1.0001865109509787,
             1.0003680884142365,
             1.0002180709129962,
             1.0001264211250351,
             1.0000785520648774
            ],
            [
             1.0000002090107591,
             1.0000878891061553,
             1.0001827482300403,
             1.0002495876426822,
             1.000543670946379,
             1.000329659193792,
             1.0002355846045548,
             1.0001874992703548
            ],
            [
             1.0000000940548417,
             1.0000454570339243,
             1.0000910034532455,
             1.0001218426424836,
             1.0002746789091232,
             1.0001620841360754,
             1.0001597081766413,
             1.0001754965737035
            ],
            [
             1,
             1.0000118138723089,
             1.000018397437759,
             1.00002342964386,
             1.0000845756910142,
             1.0000583409405197,
             1.0001698610646492,
             1.000271367844891
            ],
            [
             1,
             1.0000024573758366,
             1.0000043679641542,
             1.000006507915732,
             1.0000266573861234,
             1.0000190324864398,
             1.0000951382347536,
             1.000157943105629
            ],
            [
             1.0000000629225505,
             1.0000000794954234,
             1.0000000093218595,
             1,
             1.000000643849379,
             1.0000036245815367,
             1.000041562600899,
             1.000078956406872
            ],
            [
             1,
             1.0000001943372478,
             1,
             1.0000000046838422,
             1.0000004744643263,
             1.0000026113009728,
             1.0000281497251193,
             1.000053773019901
            ]
           ]
          }
         ],
         "layout": {
          "title": {
           "text": "02AM, 04 Jun 20"
          }
         }
        },
        {
         "data": [
          {
           "type": "heatmap",
           "z": [
            [
             1,
             1.0000401257304534,
             1.000111195933865,
             1.0001420370517962,
             1.0002572645753036,
             1.0001491849260598,
             1.0000706385003635,
             1.0000357908583752
            ],
            [
             1.0000004275016157,
             1.0000767505886972,
             1.000162306260147,
             1.0001873907926133,
             1.0003722732727642,
             1.0002067724402919,
             1.0001097696168941,
             1.0001055107847456
            ],
            [
             1.000000665002513,
             1.0001097134379517,
             1.0002207276780959,
             1.0002609124964228,
             1.0005848844866065,
             1.000343371071156,
             1.0002530308466566,
             1.0003150570601476
            ],
            [
             1.000000299251131,
             1.0000554920834426,
             1.0001072252448884,
             1.0001230297942594,
             1.000291706387658,
             1.0001710219485902,
             1.0002035499051445,
             1.0004148453587312
            ],
            [
             1,
             1.0000122420727287,
             1.0000172383935624,
             1.0000166061052658,
             1.000088003641002,
             1.000074179935985,
             1.0002683175978682,
             1.0007357076700523
            ],
            [
             1,
             1.0000013886582924,
             1.000002427912265,
             1.0000038241919673,
             1.0000292334972505,
             1.0000297531152629,
             1.0001611407163202,
             1.0004615709208136
            ],
            [
             1.000000153107617,
             1.0000000594302936,
             1.00000002268261,
             1,
             1.0000020227539606,
             1.0000090545789553,
             1.0000754204497566,
             1.000251068351835
            ],
            [
             1,
             1.0000000038625383,
             1,
             1,
             1.0000014276640141,
             1.000006311287973,
             1.000050261856798,
             1.000164393435476
            ]
           ]
          }
         ],
         "layout": {
          "title": {
           "text": "03AM, 04 Jun 20"
          }
         }
        },
        {
         "data": [
          {
           "type": "heatmap",
           "z": [
            [
             1,
             1.0000315731308105,
             1.0000908339449925,
             1.0001097734669693,
             1.000205417802314,
             1.000115008431502,
             1.0000495151914217,
             1.0000247086437821
            ],
            [
             1.0000000309517687,
             1.0000705493244149,
             1.000144321808091,
             1.000158006791607,
             1.0003279266243144,
             1.0001757494950054,
             1.0000887142282573,
             1.000110604900355
            ],
            [
             1.0000000481471953,
             1.0001037551100094,
             1.0002015880294854,
             1.0002285735240324,
             1.0005425051843153,
             1.000313355971044,
             1.0002314624747564,
             1.0003491289223025
            ],
            [
             1.000000021666238,
             1.0000520122583967,
             1.0000965610489927,
             1.0001058710512671,
             1.0002672452712005,
             1.0001540679277003,
             1.0001921175831798,
             1.0004884689226818
            ],
            [
             1,
             1.0000106449177841,
             1.000013211752281,
             1.0000113264695893,
             1.0000786158259816,
             1.0000691435678302,
             1.000265793939171,
             1.0008782107752778
            ],
            [
             1,
             1.000001106440637,
             1.0000019215425637,
             1.000002807843959,
             1.0000266506876916,
             1.0000272221247477,
             1.0001521964729871,
             1.0005332871294113
            ],
            [
             1.0000000919987537,
             1.0000000350471443,
             1.000000013629445,
             1,
             1.0000014351190611,
             1.0000072975397818,
             1.0000702248152575,
             1.0002869251376454
            ],
            [
             1,
             1,
             1,
             1,
             1.0000010755391575,
             1.0000052669747266,
             1.0000470646860413,
             1.0001875087827192
            ]
           ]
          }
         ],
         "layout": {
          "title": {
           "text": "04AM, 04 Jun 20"
          }
         }
        },
        {
         "data": [
          {
           "type": "heatmap",
           "z": [
            [
             1,
             1.0000291962607322,
             1.0000816672420467,
             1.0001246279303575,
             1.0002255087832328,
             1.0001276014514302,
             1.0000574262910364,
             1.0000253080306842
            ],
            [
             1,
             1.0000535724876196,
             1.0001151666324914,
             1.000158938664421,
             1.0003209861489055,
             1.0001736392810094,
             1.0000867315732855,
             1.0000976755837085
            ],
            [
             1,
             1.0000769165037844,
             1.0001574797924908,
             1.0002214403383978,
             1.0005154373851586,
             1.000301310471505,
             1.0002196627641164,
             1.0003219288085012
            ],
            [
             1,
             1.00003769542285,
             1.000074149632749,
             1.0001019730056027,
             1.0002546400243704,
             1.0001523765433686,
             1.0001848733088003,
             1.0004642957466925
            ],
            [
             1,
             1.0000061659922939,
             1.0000078682396096,
             1.0000096436569426,
             1.0000751188988972,
             1.0000742985161333,
             1.000255309218871,
             1.0008450136559575
            ],
            [
             1,
             1.0000007968074447,
             1.000001442801705,
             1.0000024861529773,
             1.0000259730602172,
             1.0000302106226862,
             1.0001417889341742,
             1.0005018581178284
            ],
            [
             1.0000005320579897,
             1.000000202688758,
             1.0000000788234058,
             1,
             1.0000020159955787,
             1.0000096521231117,
             1.0000673952651329,
             1.000272006224438
            ],
            [
             1,
             1,
             1,
             1,
             1.0000014744098122,
             1.0000067903722123,
             1.0000450856169874,
             1.0001780355910719
            ]
           ]
          }
         ],
         "layout": {
          "title": {
           "text": "05AM, 04 Jun 20"
          }
         }
        },
        {
         "data": [
          {
           "type": "heatmap",
           "z": [
            [
             1,
             1.0000340313399154,
             1.0000926848281846,
             1.0001526939297363,
             1.000274671714725,
             1.0001685702878778,
             1.00009043277424,
             1.0000448424249093
            ],
            [
             1,
             1.000044409374061,
             1.000101091001927,
             1.0001495499287243,
             1.000303447254903,
             1.000183268702855,
             1.0001136593084143,
             1.0001362496813457
            ],
            [
             1,
             1.0000571779079312,
             1.000123702539974,
             1.0001809212521282,
             1.0004266184197494,
             1.0002746613787803,
             1.0002265529832108,
             1.0003647022306592
            ],
            [
             1,
             1.000027531774412,
             1.0000583162756138,
             1.0000840958385206,
             1.0002187221842878,
             1.0001570108552735,
             1.0002082448344625,
             1.0005351035116898
            ],
            [
             1,
             1.0000036034316855,
             1.00000509184816,
             1.0000063705450812,
             1.0000709384101905,
             1.000093507125902,
             1.0002808547840634,
             1.0009285952517675
            ],
            [
             1,
             1.000000674884591,
             1.0000012689853515,
             1.0000017912068162,
             1.0000250954204564,
             1.000038579805156,
             1.0001495817927142,
             1.0005237113231444
            ],
            [
             1.0000014449064345,
             1.0000005504405465,
             1.0000002140602124,
             1,
             1.0000045860851206,
             1.000016178132873,
             1.0000784615178693,
             1.00029801230589
            ],
            [
             1,
             1,
             1,
             1,
             1.0000030190913936,
             1.0000105356864795,
             1.0000507172471003,
             1.0001902551881088
            ]
           ]
          }
         ],
         "layout": {
          "title": {
           "text": "06AM, 04 Jun 20"
          }
         }
        },
        {
         "data": [
          {
           "type": "heatmap",
           "z": [
            [
             1,
             1.000037335879896,
             1.0000979472451692,
             1.000147080855843,
             1.0002366970096825,
             1.0001446664811273,
             1.0000740775246117,
             1.000039623252582
            ],
            [
             1,
             1.000054349144214,
             1.0001226982046876,
             1.0001654961212871,
             1.0002821879726664,
             1.000172102700349,
             1.0001028371662692,
             1.0001273597815226
            ],
            [
             1,
             1.0000720927486657,
             1.0001565583529677,
             1.0002078006799646,
             1.000393266190334,
             1.0002597162538285,
             1.00020631811903,
             1.0003169351300245
            ],
            [
             1.0000002412796007,
             1.0000370082300476,
             1.0000797175178364,
             1.0001051032302395,
             1.0002202420713984,
             1.0001722385753202,
             1.000206640334602,
             1.000469069978951
            ],
            [
             1.0000004825592015,
             1.000009132986296,
             1.0000171071904194,
             1.0000202815733565,
             1.0000903972263884,
             1.000119784315498,
             1.0002678859257033,
             1.0007773036899064
            ],
            [
             1.0000017846403297,
             1.000005379478385,
             1.0000141316181195,
             1.000009487524431,
             1.0000368067645247,
             1.0000559021954671,
             1.0001489780915802,
             1.0004435311814117
            ],
            [
             1.000006596509278,
             1.0000029084624114,
             1.0000038809627017,
             1,
             1.0000102341146035,
             1.000028839835097,
             1.0000909923210974,
             1.0002786254921
            ],
            [
             1,
             1.0000000134592133,
             1.000000212505621,
             1.0000004013813397,
             1.0000075804715096,
             1.0000187433366092,
             1.000057745314303,
             1.0001743256568862
            ]
           ]
          }
         ],
         "layout": {
          "title": {
           "text": "07AM, 04 Jun 20"
          }
         }
        },
        {
         "data": [
          {
           "type": "heatmap",
           "z": [
            [
             1.0000013533225216,
             1.0000679146465423,
             1.0001595882968468,
             1.0002308670633637,
             1.00033232272509,
             1.0002100837317534,
             1.0001204654974272,
             1.0000766554520621
            ],
            [
             1.0000082093922342,
             1.000095256304287,
             1.0001988127426489,
             1.0002589901233208,
             1.0003724071148916,
             1.0002390946711606,
             1.0001610077194971,
             1.00019987911841
            ],
            [
             1.0000136642204156,
             1.000124355437064,
             1.0002507298913395,
             1.0003150980756923,
             1.0004744282152063,
             1.000326444269124,
             1.0002700274357246,
             1.0004101696589067
            ],
            [
             1.0000089252122852,
             1.0000666135634986,
             1.0001331828363982,
             1.00016623341715,
             1.0002818719216584,
             1.000239081442817,
             1.0002850570971065,
             1.0006036404995267
            ],
            [
             1.0000055526261964,
             1.0000214806831347,
             1.0000389430527001,
             1.0000433805987377,
             1.0001347047964972,
             1.000186326777428,
             1.0003607172596087,
             1.0009661550306932
            ],
            [
             1.0000095835400193,
             1.0000159261295318,
             1.0000325725597659,
             1.0000224310453016,
             1.0000651127109506,
             1.0001028105093446,
             1.000218492807931,
             1.0005769100750894
            ],
            [
             1.0000158529229715,
             1.0000083682482332,
             1.000009944263069,
             1.0000010793313836,
             1.0000262589201894,
             1.000066067246666,
             1.0001538209252918,
             1.0003977772221897
            ],
            [
             1.0000000250958736,
             1.0000025448608763,
             1.0000049397997999,
             1.0000047145045512,
             1.0000244899528759,
             1.0000475823922566,
             1.000101587826443,
             1.0002508432823027
            ]
           ]
          }
         ],
         "layout": {
          "title": {
           "text": "08AM, 04 Jun 20"
          }
         }
        },
        {
         "data": [
          {
           "type": "heatmap",
           "z": [
            [
             1.0000023934496498,
             1.0000769684802928,
             1.0001880262319167,
             1.0002783165594729,
             1.0004120920120918,
             1.0002766940455172,
             1.0001800328104158,
             1.0001297332431487
            ],
            [
             1.0000129609073216,
             1.0001048818470848,
             1.0002244886028573,
             1.0002944165817842,
             1.0004321770436109,
             1.0003023845029397,
             1.0002367939783297,
             1.000279668718278
            ],
            [
             1.0000225319647609,
             1.0001359158579055,
             1.0002786027188708,
             1.0003439672669459,
             1.0005174134264692,
             1.0003883421604831,
             1.0003531047029186,
             1.000496531626036
            ],
            [
             1.000017275220978,
             1.0000762936481058,
             1.0001542533990837,
             1.0001902985947055,
             1.0003316807184752,
             1.0003215291443337,
             1.0004008813650902,
             1.0007241923023866
            ],
            [
             1.0000154482717565,
             1.0000321424807241,
             1.000056678954787,
             1.0000627874461245,
             1.0001910695614489,
             1.000290194097805,
             1.0005166556307998,
             1.0011310162649358
            ],
            [
             1.000025029085179,
             1.000030628418085,
             1.0000535418476393,
             1.0000408865988741,
             1.0001137659945392,
             1.000194480838685,
             1.0003481933946397,
             1.0007179562129322
            ],
            [
             1.0000337098849579,
             1.0000229577329565,
             1.0000264654817421,
             1.0000162143868114,
             1.0000731722939296,
             1.0001590808451626,
             1.0002846541467654,
             1.0005482266135635
            ],
            [
             1.0000094587105508,
             1.000020926146491,
             1.0000264565894663,
             1.000022330698617,
             1.0000629299378627,
             1.0001146683981064,
             1.000190797730088,
             1.0003511518938346
            ]
           ]
          }
         ],
         "layout": {
          "title": {
           "text": "09AM, 04 Jun 20"
          }
         }
        },
        {
         "data": [
          {
           "type": "heatmap",
           "z": [
            [
             1.0000008560133482,
             1.0000708120161366,
             1.0001843962341803,
             1.0002849982633986,
             1.0004636292178344,
             1.0003270981546264,
             1.0002283273811734,
             1.000175966664862
            ],
            [
             1.000007716683769,
             1.0000863295990967,
             1.0001986863268857,
             1.0002664439459807,
             1.0004434574349732,
             1.0003286038359813,
             1.0002787438942176,
             1.0003350017100772
            ],
            [
             1.0000139272378439,
             1.00010346046867,
             1.0002284822726049,
             1.000278508730179,
             1.0004823049252733,
             1.0003847150545466,
             1.0003729701903408,
             1.0005412581618087
            ],
            [
             1.0000123479244645,
             1.0000577560974468,
             1.0001262530473711,
             1.000154137007605,
             1.0003137135419111,
             1.0003240146180388,
             1.0004172424639415,
             1.0007624937319224
            ],
            [
             1.0000142853178566,
             1.0000249247419462,
             1.0000461979312847,
             1.0000496773255803,
             1.0001871456118279,
             1.0002983787148318,
             1.0005310524761823,
             1.0011616282417495
            ],
            [
             1.000025500655162,
             1.000026699257017,
             1.0000474505494479,
             1.0000359567160528,
             1.0001154857982244,
             1.0002020606079145,
             1.0003531017047893,
             1.0007274326870506
            ],
            [
             1.00003978742549,
             1.0000259408452898,
             1.0000281345236968,
             1.0000176089264983,
             1.0000777400771308,
             1.0001644551444617,
             1.0002851515320268,
             1.0005493286862532
            ],
            [
             1.0000192081010741,
             1.0000295978293885,
             1.0000330219931781,
             1.0000239656066738,
             1.0000660567933957,
             1.0001176006210046,
             1.0001900153425531,
             1.0003502937696478
            ]
           ]
          }
         ],
         "layout": {
          "title": {
           "text": "10AM, 04 Jun 20"
          }
         }
        },
        {
         "data": [
          {
           "type": "heatmap",
           "z": [
            [
             1.0000003513477567,
             1.0000633305439128,
             1.0001714826307277,
             1.0002753743782264,
             1.0004703654972116,
             1.0003420374255645,
             1.0002453837219683,
             1.0002005344459608
            ],
            [
             1.0000055487736004,
             1.0000714108149293,
             1.0001715413341983,
             1.0002363115117974,
             1.000424236365065,
             1.0003269493133429,
             1.0002914952187578,
             1.000381803079503
            ],
            [
             1.0000099369676207,
             1.0000801541069368,
             1.000185760764182,
             1.0002281029146398,
             1.000434799887623,
             1.0003624696567253,
             1.0003683109183068,
             1.000586595735133
            ],
            [
             1.0000089841849078,
             1.000043948455017,
             1.0001018326901352,
             1.0001256676228996,
             1.0002860323520044,
             1.0003091686889194,
             1.0004101979664943,
             1.000816585303514
            ],
            [
             1.0000115476514873,
             1.0000180978257789,
             1.0000353339153838,
             1.0000383870555676,
             1.0001762678293638,
             1.0002917231526736,
             1.0005284506098193,
             1.0012435564606785
            ],
            [
             1.0000209799522743,
             1.0000187903859772,
             1.000033110522884,
             1.0000245543437412,
             1.0001002294013341,
             1.000182513961844,
             1.0003314844422466,
             1.0007470475718867
            ],
            [
             1.0000385849063365,
             1.0000227930009888,
             1.0000221181019435,
             1.0000131391596092,
             1.000069983192474,
             1.0001495063007426,
             1.0002682448230773,
             1.0005586793293781
            ],
            [
             1.0000253297996484,
             1.0000300094780215,
             1.0000299118826075,
             1.00001949417795,
             1.000059503062007,
             1.0001063644473018,
             1.00017839289285,
             1.0003549184521778
            ]
           ]
          }
         ],
         "layout": {
          "title": {
           "text": "11AM, 04 Jun 20"
          }
         }
        },
        {
         "data": [
          {
           "type": "heatmap",
           "z": [
            [
             1.0000002769866416,
             1.0000498640273339,
             1.0001445918737986,
             1.0002349675443156,
             1.0003970272364229,
             1.0002850331903301,
             1.000190970601048,
             1.0001569489115645
            ],
            [
             1.0000048264233388,
             1.000059705477876,
             1.0001508536600918,
             1.0002081345974871,
             1.0003661438033538,
             1.0002755466728384,
             1.0002299629597724,
             1.0003198463178145
            ],
            [
             1.0000084115446009,
             1.0000663166976547,
             1.0001623013836518,
             1.0002005007338512,
             1.0003753875017016,
             1.0003111835258343,
             1.0003072640952528,
             1.0005089035375025
            ],
            [
             1.0000073692343725,
             1.000036234277715,
             1.00008951498149,
             1.0001117313753785,
             1.0002520732332163,
             1.0002722325549718,
             1.0003516907267986,
             1.0007127099794635
            ],
            [
             1.000010493664902,
             1.0000151718682704,
             1.0000313243812042,
             1.0000346509787739,
             1.0001583513591086,
             1.0002570992225042,
             1.0004543907539676,
             1.0010756843871176
            ],
            [
             1.0000195350453323,
             1.000015439832063,
             1.0000280502432293,
             1.000022710778656,
             1.000092894469038,
             1.0001663616998393,
             1.0002854651169044,
             1.0006384924923861
            ],
            [
             1.0000409999817055,
             1.0000220906669586,
             1.0000202333436248,
             1.000012918580801,
             1.0000660834193575,
             1.0001379524000533,
             1.0002334139015012,
             1.0004888161652237
            ],
            [
             1.000035625799361,
             1.0000317020131906,
             1.0000286230298998,
             1.0000186916198552,
             1.000056402976385,
             1.0000988727581446,
             1.0001558004602855,
             1.000311231002033
            ]
           ]
          }
         ],
         "layout": {
          "title": {
           "text": "12PM, 04 Jun 20"
          }
         }
        },
        {
         "data": [
          {
           "type": "heatmap",
           "z": [
            [
             1.0000000512903688,
             1.0000343828331795,
             1.0001046874491242,
             1.0001676421721977,
             1.0002838480880694,
             1.000209758952446,
             1.000144639460359,
             1.0001295531406238
            ],
            [
             1.000003157328701,
             1.000045085625705,
             1.0001199438256563,
             1.0001627880015767,
             1.0002923378413424,
             1.0002294613826672,
             1.000202683648628,
             1.0003060090229574
            ],
            [
             1.0000054742166864,
             1.0000501666944837,
             1.0001315072200951,
             1.0001599608365812,
             1.0003079202495775,
             1.000266694989145,
             1.0002755068986486,
             1.0004779254769947
            ],
            [
             1.0000052905503574,
             1.0000273772404893,
             1.0000729887444175,
             1.0000900818793674,
             1.0002149392188961,
             1.0002449243018714,
             1.0003252093221089,
             1.0006711429691968
            ],
            [
             1.0000096795447504,
             1.000011971976111,
             1.0000257688219674,
             1.0000271865719064,
             1.0001417498318976,
             1.0002370911941791,
             1.0004208053266836,
             1.0010025912068303
            ],
            [
             1.0000186859218774,
             1.0000125271686275,
             1.0000220995398015,
             1.0000161959066451,
             1.0000796297833359,
             1.00014975670014,
             1.0002581897244813,
             1.0005843158653391
            ],
            [
             1.0000441356683223,
             1.0000214232850986,
             1.000017868144503,
             1.0000093354130386,
             1.0000585495214624,
             1.0001280332752855,
             1.0002148528765342,
             1.0004573950547144
            ],
            [
             1.0000453592187306,
             1.0000321351389043,
             1.0000274329077528,
             1.0000157829770955,
             1.000049976895713,
             1.0000916705005354,
             1.000142923600422,
             1.0002909379762341
            ]
           ]
          }
         ],
         "layout": {
          "title": {
           "text": "01PM, 04 Jun 20"
          }
         }
        },
        {
         "data": [
          {
           "type": "heatmap",
           "z": [
            [
             1.0000000841154781,
             1.0000236707555235,
             1.00008044252157,
             1.0001282703247876,
             1.0002164780536242,
             1.0001667313633824,
             1.0001166421798948,
             1.000110775987339
            ],
            [
             1.0000030247175646,
             1.0000353621321783,
             1.0000999663817611,
             1.0001328019954563,
             1.0002383300766235,
             1.0001947118716767,
             1.000178422152084,
             1.000286469790105
            ],
            [
             1.0000053144432974,
             1.000040456168664,
             1.0001124331303581,
             1.000132348557425,
             1.0002527706412758,
             1.000227497836092,
             1.000241335519394,
             1.0004375633553575
            ],
            [
             1.000005611093639,
             1.0000228134266906,
             1.0000639557244841,
             1.0000760649617129,
             1.0001836348902224,
             1.000217595234004,
             1.0002913825447008,
             1.0006162019612153
            ],
            [
             1.0000139834528905,
             1.000014126642829,
             1.000026256812563,
             1.0000243523837897,
             1.0001281372243533,
             1.0002152154238755,
             1.0003796761090507,
             1.0009147095796553
            ],
            [
             1.0000288835893525,
             1.0000203030214145,
             1.0000279119250974,
             1.000017187640381,
             1.000072811198481,
             1.0001341830806403,
             1.0002259093346275,
             1.000518010369993
            ],
            [
             1.0000652710749252,
             1.0000369441161632,
             1.0000290147811437,
             1.0000148676178606,
             1.0000605882686293,
             1.0001237237196472,
             1.000194294634064,
             1.000410439376521
            ],
            [
             1.0000875635777133,
             1.000066039584439,
             1.0000502248208656,
             1.0000267936751606,
             1.0000551385157863,
             1.000090722921303,
             1.0001303896652323,
             1.000261296788472
            ]
           ]
          }
         ],
         "layout": {
          "title": {
           "text": "02PM, 04 Jun 20"
          }
         }
        },
        {
         "data": [
          {
           "type": "heatmap",
           "z": [
            [
             1.0000000609435427,
             1.000013182184087,
             1.000052998802695,
             1.00008066502154,
             1.0001365176861678,
             1.0001146342909384,
             1.0000804828180976,
             1.0000848983063984
            ],
            [
             1.0000024302224306,
             1.0000259540635479,
             1.0000791799880673,
             1.0000985551129886,
             1.0001797704971827,
             1.000152949755455,
             1.0001446712592228,
             1.000249436229235
            ],
            [
             1.0000043647219101,
             1.0000312155195685,
             1.0000938213788275,
             1.000102775188266,
             1.0002002296518329,
             1.0001859304979248,
             1.0002028769803029,
             1.0003763466995301
            ],
            [
             1.0000055451517347,
             1.0000183872625865,
             1.0000548638095776,
             1.000061220256409,
             1.000155268453315,
             1.0001909294676061,
             1.000259455195972,
             1.0005397983640185
            ],
            [
             1.000018262963803,
             1.000016159079977,
             1.00002684479964,
             1.0000227085039899,
             1.0001201880218737,
             1.0002002318126828,
             1.0003482760648177,
             1.000800880815045
            ],
            [
             1.000039427517115,
             1.0000282754369827,
             1.000035661239463,
             1.0000218473766043,
             1.0000765580184703,
             1.0001348504014995,
             1.0002137311289137,
             1.000456959147301
            ],
            [
             1.0000887896314594,
             1.0000533803567377,
             1.0000432010765954,
             1.0000248632931263,
             1.0000738268729013,
             1.0001383530493753,
             1.0001971368037024,
             1.000385809590842
            ],
            [
             1.0001309859099659,
             1.0001001051638565,
             1.0000780646575067,
             1.0000438441570185,
             1.0000703612047783,
             1.0001046127019664,
             1.000134614239887,
             1.0002486482285078
            ]
           ]
          }
         ],
         "layout": {
          "title": {
           "text": "03PM, 04 Jun 20"
          }
         }
        },
        {
         "data": [
          {
           "type": "heatmap",
           "z": [
            [
             1.0000001976718602,
             1.0000055714614056,
             1.0000322541947444,
             1.0000427229898765,
             1.0000732149181695,
             1.0000732576893065,
             1.0000570253546195,
             1.0000776455747815
            ],
            [
             1.000002517773645,
             1.000017926398456,
             1.000059721311842,
             1.000064728295213,
             1.0001246907160652,
             1.0001206403540681,
             1.000133152644292,
             1.0002599979057631
            ],
            [
             1.0000046700419791,
             1.0000236474692212,
             1.0000757498663704,
             1.000070915420777,
             1.0001470175215839,
             1.0001546957800762,
             1.0001955638725477,
             1.000388462079049
            ],
            [
             1.0000068801798683,
             1.000015390232049,
             1.0000464569838938,
             1.0000446520857575,
             1.0001295088229145,
             1.0001802331367071,
             1.0002738180900421,
             1.00057939952376
            ],
            [
             1.0000268043990914,
             1.0000213765465569,
             1.0000294618100296,
             1.000019943388878,
             1.00011799161713,
             1.0002082310191398,
             1.0003837452666924,
             1.0008670587030803
            ],
            [
             1.0000582059180612,
             1.0000419680137373,
             1.0000468791533113,
             1.000024359553255,
             1.0000772247624827,
             1.000139100999748,
             1.0002314736736344,
             1.0004902242423444
            ],
            [
             1.0001257639064998,
             1.0000788153680258,
             1.000061006963289,
             1.0000316547035792,
             1.000077900880041,
             1.0001425743252885,
             1.0002041927952237,
             1.0003992933614545
            ],
            [
             1.000200519716235,
             1.000153279906049,
             1.000113614294507,
             1.0000598511073655,
             1.0000760918468832,
             1.0001071796413736,
             1.0001367985012894,
             1.000253594272561
            ]
           ]
          }
         ],
         "layout": {
          "title": {
           "text": "04PM, 04 Jun 20"
          }
         }
        },
        {
         "data": [
          {
           "type": "heatmap",
           "z": [
            [
             1.000001083114881,
             1.0000033252392961,
             1.0000237500816724,
             1.000026681666443,
             1.0000420070820135,
             1.0000542038956868,
             1.0000481436350883,
             1.00008129050556
            ],
            [
             1.0000042422086777,
             1.000016823773463,
             1.0000542042581537,
             1.0000522067480497,
             1.000095817714686,
             1.0001033580294292,
             1.000127881338253,
             1.0002723967580274
            ],
            [
             1.000007418675408,
             1.000024245110841,
             1.0000731469752775,
             1.000060908983453,
             1.0001157278803106,
             1.000130171286708,
             1.0001804685206563,
             1.0003782996200787
            ],
            [
             1.0000098235623287,
             1.0000170118185887,
             1.000046147075672,
             1.000038880201372,
             1.0001107452260283,
             1.000160526694143,
             1.0002606891306145,
             1.0005677200806455
            ],
            [
             1.0000358448738254,
             1.0000277563811408,
             1.0000341393404084,
             1.0000200894403835,
             1.0001130368171225,
             1.0001965933688648,
             1.0003729799327576,
             1.0008517657387517
            ],
            [
             1.0000761079245448,
             1.000053833958909,
             1.0000535102266552,
             1.0000252033286452,
             1.000072928293118,
             1.000126964525746,
             1.000217679880895,
             1.000470999331399
            ],
            [
             1.0001588603234726,
             1.0000986619157641,
             1.000072154703908,
             1.000035333065893,
             1.0000775520923277,
             1.0001332622513588,
             1.000187420924282,
             1.0003738008796537
            ],
            [
             1.0002586400360696,
             1.0001908124028787,
             1.0001344141698922,
             1.0000675384027122,
             1.000076162951784,
             1.0000999110793776,
             1.0001242072349883,
             1.0002352194611697
            ]
           ]
          }
         ],
         "layout": {
          "title": {
           "text": "05PM, 04 Jun 20"
          }
         }
        },
        {
         "data": [
          {
           "type": "heatmap",
           "z": [
            [
             1.0000082185018795,
             1.0000070866220878,
             1.0000307331322862,
             1.0000340956191844,
             1.0000507469237339,
             1.0000694309280307,
             1.0000680263253447,
             1.0001126188169196
            ],
            [
             1.0000109063287477,
             1.0000234333070994,
             1.0000674492738564,
             1.0000670430112815,
             1.0001172683207862,
             1.0001323526621766,
             1.0001647408407024,
             1.000330125557945
            ],
            [
             1.0000156085135947,
             1.0000335856336942,
             1.0000919257601668,
             1.000080293743325,
             1.0001414623776361,
             1.0001642973401246,
             1.0002187804115568,
             1.000433207248403
            ],
            [
             1.0000156014977868,
             1.0000236923923973,
             1.00006043644387,
             1.0000555871826753,
             1.00014170635751,
             1.0002050018958888,
             1.0003076078758955,
             1.0006325804817873
            ],
            [
             1.0000431476019138,
             1.0000364010566707,
             1.0000482770399715,
             1.0000367005573727,
             1.0001524897705787,
             1.0002540648861193,
             1.0004337401819832,
             1.0009362360225509
            ],
            [
             1.000088243456277,
             1.0000669536638267,
             1.0000699609663477,
             1.0000409231462315,
             1.0001042365751405,
             1.0001732897096582,
             1.0002625240673029,
             1.000531573601154
            ],
            [
             1.0001779178764922,
             1.0001180906325482,
             1.0000911251330864,
             1.0000528019998645,
             1.000108927904389,
             1.000177999678275,
             1.0002278510376075,
             1.0004249639174332
            ],
            [
             1.000286884153193,
             1.0002265606802703,
             1.000162981939036,
             1.000087220874975,
             1.0000993087380317,
             1.0001291675848694,
             1.0001497395362302,
             1.0002673798173907
            ]
           ]
          }
         ],
         "layout": {
          "title": {
           "text": "06PM, 04 Jun 20"
          }
         }
        },
        {
         "data": [
          {
           "type": "heatmap",
           "z": [
            [
             1.0000101226130098,
             1.000008285974923,
             1.0000373654220451,
             1.0000438362503554,
             1.0000644497088451,
             1.0000786052398392,
             1.0000698581345442,
             1.0001074458951296
            ],
            [
             1.000013310745531,
             1.000026672506168,
             1.0000775963367712,
             1.0000782259818675,
             1.0001297105275664,
             1.0001383635618102,
             1.000159544866077,
             1.0003101841602238
            ],
            [
             1.00001841976221,
             1.0000371809159045,
             1.0001030892930203,
             1.0000911797758993,
             1.0001522467094182,
             1.000171054348691,
             1.0002131965091907,
             1.0004115986469666
            ],
            [
             1.000016164876179,
             1.000024809615509,
             1.0000664905278955,
             1.0000638454890012,
             1.0001540022814237,
             1.000218532986323,
             1.0003075352211321,
             1.0006121881690757
            ],
            [
             1.0000398317712755,
             1.0000351121375444,
             1.0000501404871014,
             1.0000436798502057,
             1.0001689222504953,
             1.000277038206165,
             1.0004414050673098,
             1.0009150315058377
            ],
            [
             1.0000802328331622,
             1.0000630446114445,
             1.000067274717364,
             1.0000478479329258,
             1.0001241951972546,
             1.000203788995296,
             1.0002829319159996,
             1.0005357094861518
            ],
            [
             1.0001671750195773,
             1.0001169525958953,
             1.0000941697757313,
             1.0000662958105173,
             1.000140685500578,
             1.0002249153757135,
             1.0002687978946012,
             1.0004583461987893
            ],
            [
             1.0002722076952715,
             1.0002308069670192,
             1.0001716282533357,
             1.0001008397373594,
             1.0001247219536364,
             1.000163719840419,
             1.0001796524197684,
             1.0002926456742225
            ]
           ]
          }
         ],
         "layout": {
          "title": {
           "text": "07PM, 04 Jun 20"
          }
         }
        },
        {
         "data": [
          {
           "type": "heatmap",
           "z": [
            [
             1.000017184499783,
             1.0000157974221224,
             1.000056233470401,
             1.0000671586880112,
             1.0000904899896246,
             1.0000995583069556,
             1.0000876351244814,
             1.0001274097342865
            ],
            [
             1.0000223538388213,
             1.0000402853757104,
             1.0001055701554658,
             1.0001081029726477,
             1.0001590905262094,
             1.0001606797629037,
             1.0001799431283998,
             1.0003345945753215
            ],
            [
             1.0000300422958261,
             1.0000546828274763,
             1.000137004545645,
             1.0001227688332903,
             1.0001752833158928,
             1.0001853911026066,
             1.0002233982858855,
             1.0004187157057745
            ],
            [
             1.0000216892844918,
             1.0000337089832967,
             1.0000840937139897,
             1.0000795779449787,
             1.0001643565508866,
             1.0002236070450152,
             1.0003100536139593,
             1.0006048269782721
            ],
            [
             1.0000405355367326,
             1.000037295488515,
             1.000054989875159,
             1.0000465339784226,
             1.0001683484967403,
             1.0002732974537607,
             1.000435133714186,
             1.0008873064316859
            ],
            [
             1.000079399656579,
             1.0000639073399387,
             1.000071175664284,
             1.000049715769945,
             1.000123266514712,
             1.0002005762234654,
             1.000277900241721,
             1.000516369608749
            ],
            [
             1.0001680343692414,
             1.0001194749514972,
             1.0000983962044039,
             1.000069579820558,
             1.0001435296457553,
             1.0002270941430391,
             1.0002690417840565,
             1.0004469733329535
            ],
            [
             1.0002823708253004,
             1.000240990687233,
             1.0001816406224986,
             1.0001077647600833,
             1.0001288855839703,
             1.0001664238249544,
             1.0001803416124806,
             1.0002855904642212
            ]
           ]
          }
         ],
         "layout": {
          "title": {
           "text": "08PM, 04 Jun 20"
          }
         }
        },
        {
         "data": [
          {
           "type": "heatmap",
           "z": [
            [
             1.0000232860896865,
             1.0000234283733587,
             1.000075090413727,
             1.000096478500439,
             1.0001349068985272,
             1.0001373120683654,
             1.0001205951316021,
             1.0001637920686035
            ],
            [
             1.0000268547334554,
             1.0000490669781574,
             1.0001253008075808,
             1.0001352588867607,
             1.0001991130004115,
             1.0001964259311764,
             1.0002179434117264,
             1.0003900553723344
            ],
            [
             1.0000341943233155,
             1.0000636870496507,
             1.0001566347581514,
             1.0001471320831228,
             1.000207823383127,
             1.0002145924681856,
             1.0002556553284558,
             1.000474600905314
            ],
            [
             1.0000230030689141,
             1.0000374868204942,
             1.0000931407921507,
             1.000092122553057,
             1.0001858067254619,
             1.000248750125123,
             1.0003441635233674,
             1.000675553964005
            ],
            [
             1.0000416758429413,
             1.0000381462555392,
             1.0000556271723133,
             1.0000492140792583,
             1.0001818638703066,
             1.0002978193980323,
             1.0004777329351384,
             1.000987843981675
            ],
            [
             1.0000831471856135,
             1.0000660816181137,
             1.0000707899663823,
             1.0000523984086829,
             1.0001352712036513,
             1.000223768747861,
             1.0003139719186194,
             1.0005871496726437
            ],
            [
             1.0001808152772058,
             1.0001289293533557,
             1.000103794172054,
             1.0000767867829303,
             1.000161630667851,
             1.0002602533425748,
             1.0003152049495831,
             1.0005177376863792
            ],
            [
             1.0003186901016692,
             1.0002692029610714,
             1.0001984834047666,
             1.0001181309728175,
             1.000143101505349,
             1.0001901437844136,
             1.0002124241205845,
             1.0003324109715543
            ]
           ]
          }
         ],
         "layout": {
          "title": {
           "text": "09PM, 04 Jun 20"
          }
         }
        },
        {
         "data": [
          {
           "type": "heatmap",
           "z": [
            [
             1.0000212055654236,
             1.0000242955256298,
             1.0000823909994374,
             1.0001080521530745,
             1.000156118872924,
             1.0001533790061852,
             1.0001327044766652,
             1.0001735844634954
            ],
            [
             1.0000243019403678,
             1.0000499823142963,
             1.0001326736687666,
             1.0001436832674062,
             1.0002175808211047,
             1.0002154843609226,
             1.0002387609531342,
             1.000418625935995
            ],
            [
             1.0000305200650528,
             1.0000633299076045,
             1.0001625073030718,
             1.0001517614334707,
             1.0002236336435153,
             1.000238060810099,
             1.0002873274994366,
             1.0005291291494014
            ],
            [
             1.0000200151950107,
             1.0000362366268345,
             1.0000955573536676,
             1.0000963293243834,
             1.0002063822273126,
             1.000287218849262,
             1.0004002866795263,
             1.000775525842902
            ],
            [
             1.0000403935747009,
             1.0000376631615704,
             1.000055885637197,
             1.000053730592336,
             1.0002108333024864,
             1.000358016172399,
             1.0005726456255355,
             1.0011608983627776
            ],
            [
             1.0000845049704539,
             1.0000693820443427,
             1.0000742731687027,
             1.0000617055482188,
             1.000163119377871,
             1.0002758222616794,
             1.0003863696104234,
             1.0007067241304626
            ],
            [
             1.0001906320539002,
             1.0001423913505423,
             1.0001174257516532,
             1.0000955783814114,
             1.0001956113506256,
             1.000316794808586,
             1.000383392383277,
             1.0006156653550893
            ],
            [
             1.0003487602933672,
             1.0003052985922067,
             1.0002284054577617,
             1.0001428571875777,
             1.0001712667835214,
             1.0002300695563364,
             1.0002577714269696,
             1.0003950468485363
            ]
           ]
          }
         ],
         "layout": {
          "title": {
           "text": "10PM, 04 Jun 20"
          }
         }
        },
        {
         "data": [
          {
           "type": "heatmap",
           "z": [
            [
             1.0000179431091483,
             1.000021946905289,
             1.0000799303878845,
             1.000105776920633,
             1.000159582283749,
             1.0001570220169222,
             1.0001363328217538,
             1.0001787360501155
            ],
            [
             1.000020258624163,
             1.000045215162572,
             1.0001251950896957,
             1.0001355774154148,
             1.0002193205730407,
             1.0002254841134663,
             1.0002632599877315,
             1.0004631642989537
            ],
            [
             1.0000249008915914,
             1.0000550829684005,
             1.000148050981481,
             1.0001361935533735,
             1.0002218537449359,
             1.0002548187146219,
             1.0003383871294202,
             1.00062534821581
            ],
            [
             1.0000160558407223,
             1.0000304640874156,
             1.0000853323211425,
             1.0000881229098384,
             1.0002188133161494,
             1.0003281222879352,
             1.0004997284567596,
             1.000955052262647
            ],
            [
             1.0000375175963643,
             1.0000330120225285,
             1.0000474967618789,
             1.0000514541229886,
             1.000241947742209,
             1.0004353443537166,
             1.0007503667267508,
             1.0014773044268739
            ],
            [
             1.0000820455180115,
             1.0000653404617408,
             1.0000669840706569,
             1.0000624973562602,
             1.0001874451505626,
             1.0003316364343797,
             1.000503624407477,
             1.0009061874502327
            ],
            [
             1.000194027469606,
             1.0001441750450912,
             1.0001175409092602,
             1.000102807673639,
             1.0002212194768196,
             1.000368958841722,
             1.0004738485199753,
             1.0007601652070186
            ],
            [
             1.0003629805397987,
             1.0003163295063893,
             1.0002342456417663,
             1.0001503901726887,
             1.0001893749265853,
             1.0002647981597566,
             1.0003150287321783,
             1.0004851037498166
            ]
           ]
          }
         ],
         "layout": {
          "title": {
           "text": "11PM, 04 Jun 20"
          }
         }
        },
        {
         "data": [
          {
           "type": "heatmap",
           "z": [
            [
             1.0000132148285035,
             1.0000173384561593,
             1.000070861718401,
             1.0000954258470078,
             1.0001487354479512,
             1.0001492564779046,
             1.0001301003542697,
             1.0001730402234799
            ],
            [
             1.000015201217623,
             1.0000379981550116,
             1.000111290850145,
             1.000120369045429,
             1.0002023420967099,
             1.000212585118887,
             1.0002540480900877,
             1.0004542809180594
            ],
            [
             1.0000187337278126,
             1.0000455340261294,
             1.0001295670517352,
             1.0001165544102606,
             1.0001997422867015,
             1.0002373885603293,
             1.0003288567532647,
             1.0006185656845978
            ],
            [
             1.000012378030489,
             1.0000249725631187,
             1.0000742587158624,
             1.000075479890352,
             1.000201703046268,
             1.0003116611646314,
             1.0004935208295243,
             1.0009524794692344
            ],
            [
             1.0000349512710818,
             1.0000299607071537,
             1.0000414481495317,
             1.0000434309553996,
             1.0002281127728825,
             1.000420000254504,
             1.0007534305594559,
             1.0014910330153701
            ],
            [
             1.0000789885463108,
             1.000062961555621,
             1.0000642967155087,
             1.0000578748984446,
             1.0001796264356717,
             1.0003230874820288,
             1.000508596973379,
             1.0009188777619802
            ],
            [
             1.000190281145781,
             1.0001419774414706,
             1.0001156300289593,
             1.0000990437796733,
             1.0002152227152565,
             1.000362429340043,
             1.0004774174711868,
             1.0007678659688408
            ],
            [
             1.000360249803137,
             1.000314310603452,
             1.0002323856617026,
             1.0001465481095508,
             1.0001842034399,
             1.0002601985823159,
             1.0003173779690773,
             1.0004905403468691
            ]
           ]
          }
         ],
         "layout": {
          "title": {
           "text": "12AM, 05 Jun 20"
          }
         }
        }
       ],
       "layout": {
        "height": 500,
        "template": {
         "data": {
          "bar": [
           {
            "error_x": {
             "color": "#2a3f5f"
            },
            "error_y": {
             "color": "#2a3f5f"
            },
            "marker": {
             "line": {
              "color": "#E5ECF6",
              "width": 0.5
             }
            },
            "type": "bar"
           }
          ],
          "barpolar": [
           {
            "marker": {
             "line": {
              "color": "#E5ECF6",
              "width": 0.5
             }
            },
            "type": "barpolar"
           }
          ],
          "carpet": [
           {
            "aaxis": {
             "endlinecolor": "#2a3f5f",
             "gridcolor": "white",
             "linecolor": "white",
             "minorgridcolor": "white",
             "startlinecolor": "#2a3f5f"
            },
            "baxis": {
             "endlinecolor": "#2a3f5f",
             "gridcolor": "white",
             "linecolor": "white",
             "minorgridcolor": "white",
             "startlinecolor": "#2a3f5f"
            },
            "type": "carpet"
           }
          ],
          "choropleth": [
           {
            "colorbar": {
             "outlinewidth": 0,
             "ticks": ""
            },
            "type": "choropleth"
           }
          ],
          "contour": [
           {
            "colorbar": {
             "outlinewidth": 0,
             "ticks": ""
            },
            "colorscale": [
             [
              0,
              "#0d0887"
             ],
             [
              0.1111111111111111,
              "#46039f"
             ],
             [
              0.2222222222222222,
              "#7201a8"
             ],
             [
              0.3333333333333333,
              "#9c179e"
             ],
             [
              0.4444444444444444,
              "#bd3786"
             ],
             [
              0.5555555555555556,
              "#d8576b"
             ],
             [
              0.6666666666666666,
              "#ed7953"
             ],
             [
              0.7777777777777778,
              "#fb9f3a"
             ],
             [
              0.8888888888888888,
              "#fdca26"
             ],
             [
              1,
              "#f0f921"
             ]
            ],
            "type": "contour"
           }
          ],
          "contourcarpet": [
           {
            "colorbar": {
             "outlinewidth": 0,
             "ticks": ""
            },
            "type": "contourcarpet"
           }
          ],
          "heatmap": [
           {
            "colorbar": {
             "outlinewidth": 0,
             "ticks": ""
            },
            "colorscale": [
             [
              0,
              "#0d0887"
             ],
             [
              0.1111111111111111,
              "#46039f"
             ],
             [
              0.2222222222222222,
              "#7201a8"
             ],
             [
              0.3333333333333333,
              "#9c179e"
             ],
             [
              0.4444444444444444,
              "#bd3786"
             ],
             [
              0.5555555555555556,
              "#d8576b"
             ],
             [
              0.6666666666666666,
              "#ed7953"
             ],
             [
              0.7777777777777778,
              "#fb9f3a"
             ],
             [
              0.8888888888888888,
              "#fdca26"
             ],
             [
              1,
              "#f0f921"
             ]
            ],
            "type": "heatmap"
           }
          ],
          "heatmapgl": [
           {
            "colorbar": {
             "outlinewidth": 0,
             "ticks": ""
            },
            "colorscale": [
             [
              0,
              "#0d0887"
             ],
             [
              0.1111111111111111,
              "#46039f"
             ],
             [
              0.2222222222222222,
              "#7201a8"
             ],
             [
              0.3333333333333333,
              "#9c179e"
             ],
             [
              0.4444444444444444,
              "#bd3786"
             ],
             [
              0.5555555555555556,
              "#d8576b"
             ],
             [
              0.6666666666666666,
              "#ed7953"
             ],
             [
              0.7777777777777778,
              "#fb9f3a"
             ],
             [
              0.8888888888888888,
              "#fdca26"
             ],
             [
              1,
              "#f0f921"
             ]
            ],
            "type": "heatmapgl"
           }
          ],
          "histogram": [
           {
            "marker": {
             "colorbar": {
              "outlinewidth": 0,
              "ticks": ""
             }
            },
            "type": "histogram"
           }
          ],
          "histogram2d": [
           {
            "colorbar": {
             "outlinewidth": 0,
             "ticks": ""
            },
            "colorscale": [
             [
              0,
              "#0d0887"
             ],
             [
              0.1111111111111111,
              "#46039f"
             ],
             [
              0.2222222222222222,
              "#7201a8"
             ],
             [
              0.3333333333333333,
              "#9c179e"
             ],
             [
              0.4444444444444444,
              "#bd3786"
             ],
             [
              0.5555555555555556,
              "#d8576b"
             ],
             [
              0.6666666666666666,
              "#ed7953"
             ],
             [
              0.7777777777777778,
              "#fb9f3a"
             ],
             [
              0.8888888888888888,
              "#fdca26"
             ],
             [
              1,
              "#f0f921"
             ]
            ],
            "type": "histogram2d"
           }
          ],
          "histogram2dcontour": [
           {
            "colorbar": {
             "outlinewidth": 0,
             "ticks": ""
            },
            "colorscale": [
             [
              0,
              "#0d0887"
             ],
             [
              0.1111111111111111,
              "#46039f"
             ],
             [
              0.2222222222222222,
              "#7201a8"
             ],
             [
              0.3333333333333333,
              "#9c179e"
             ],
             [
              0.4444444444444444,
              "#bd3786"
             ],
             [
              0.5555555555555556,
              "#d8576b"
             ],
             [
              0.6666666666666666,
              "#ed7953"
             ],
             [
              0.7777777777777778,
              "#fb9f3a"
             ],
             [
              0.8888888888888888,
              "#fdca26"
             ],
             [
              1,
              "#f0f921"
             ]
            ],
            "type": "histogram2dcontour"
           }
          ],
          "mesh3d": [
           {
            "colorbar": {
             "outlinewidth": 0,
             "ticks": ""
            },
            "type": "mesh3d"
           }
          ],
          "parcoords": [
           {
            "line": {
             "colorbar": {
              "outlinewidth": 0,
              "ticks": ""
             }
            },
            "type": "parcoords"
           }
          ],
          "pie": [
           {
            "automargin": true,
            "type": "pie"
           }
          ],
          "scatter": [
           {
            "marker": {
             "colorbar": {
              "outlinewidth": 0,
              "ticks": ""
             }
            },
            "type": "scatter"
           }
          ],
          "scatter3d": [
           {
            "line": {
             "colorbar": {
              "outlinewidth": 0,
              "ticks": ""
             }
            },
            "marker": {
             "colorbar": {
              "outlinewidth": 0,
              "ticks": ""
             }
            },
            "type": "scatter3d"
           }
          ],
          "scattercarpet": [
           {
            "marker": {
             "colorbar": {
              "outlinewidth": 0,
              "ticks": ""
             }
            },
            "type": "scattercarpet"
           }
          ],
          "scattergeo": [
           {
            "marker": {
             "colorbar": {
              "outlinewidth": 0,
              "ticks": ""
             }
            },
            "type": "scattergeo"
           }
          ],
          "scattergl": [
           {
            "marker": {
             "colorbar": {
              "outlinewidth": 0,
              "ticks": ""
             }
            },
            "type": "scattergl"
           }
          ],
          "scattermapbox": [
           {
            "marker": {
             "colorbar": {
              "outlinewidth": 0,
              "ticks": ""
             }
            },
            "type": "scattermapbox"
           }
          ],
          "scatterpolar": [
           {
            "marker": {
             "colorbar": {
              "outlinewidth": 0,
              "ticks": ""
             }
            },
            "type": "scatterpolar"
           }
          ],
          "scatterpolargl": [
           {
            "marker": {
             "colorbar": {
              "outlinewidth": 0,
              "ticks": ""
             }
            },
            "type": "scatterpolargl"
           }
          ],
          "scatterternary": [
           {
            "marker": {
             "colorbar": {
              "outlinewidth": 0,
              "ticks": ""
             }
            },
            "type": "scatterternary"
           }
          ],
          "surface": [
           {
            "colorbar": {
             "outlinewidth": 0,
             "ticks": ""
            },
            "colorscale": [
             [
              0,
              "#0d0887"
             ],
             [
              0.1111111111111111,
              "#46039f"
             ],
             [
              0.2222222222222222,
              "#7201a8"
             ],
             [
              0.3333333333333333,
              "#9c179e"
             ],
             [
              0.4444444444444444,
              "#bd3786"
             ],
             [
              0.5555555555555556,
              "#d8576b"
             ],
             [
              0.6666666666666666,
              "#ed7953"
             ],
             [
              0.7777777777777778,
              "#fb9f3a"
             ],
             [
              0.8888888888888888,
              "#fdca26"
             ],
             [
              1,
              "#f0f921"
             ]
            ],
            "type": "surface"
           }
          ],
          "table": [
           {
            "cells": {
             "fill": {
              "color": "#EBF0F8"
             },
             "line": {
              "color": "white"
             }
            },
            "header": {
             "fill": {
              "color": "#C8D4E3"
             },
             "line": {
              "color": "white"
             }
            },
            "type": "table"
           }
          ]
         },
         "layout": {
          "annotationdefaults": {
           "arrowcolor": "#2a3f5f",
           "arrowhead": 0,
           "arrowwidth": 1
          },
          "coloraxis": {
           "colorbar": {
            "outlinewidth": 0,
            "ticks": ""
           }
          },
          "colorscale": {
           "diverging": [
            [
             0,
             "#8e0152"
            ],
            [
             0.1,
             "#c51b7d"
            ],
            [
             0.2,
             "#de77ae"
            ],
            [
             0.3,
             "#f1b6da"
            ],
            [
             0.4,
             "#fde0ef"
            ],
            [
             0.5,
             "#f7f7f7"
            ],
            [
             0.6,
             "#e6f5d0"
            ],
            [
             0.7,
             "#b8e186"
            ],
            [
             0.8,
             "#7fbc41"
            ],
            [
             0.9,
             "#4d9221"
            ],
            [
             1,
             "#276419"
            ]
           ],
           "sequential": [
            [
             0,
             "#0d0887"
            ],
            [
             0.1111111111111111,
             "#46039f"
            ],
            [
             0.2222222222222222,
             "#7201a8"
            ],
            [
             0.3333333333333333,
             "#9c179e"
            ],
            [
             0.4444444444444444,
             "#bd3786"
            ],
            [
             0.5555555555555556,
             "#d8576b"
            ],
            [
             0.6666666666666666,
             "#ed7953"
            ],
            [
             0.7777777777777778,
             "#fb9f3a"
            ],
            [
             0.8888888888888888,
             "#fdca26"
            ],
            [
             1,
             "#f0f921"
            ]
           ],
           "sequentialminus": [
            [
             0,
             "#0d0887"
            ],
            [
             0.1111111111111111,
             "#46039f"
            ],
            [
             0.2222222222222222,
             "#7201a8"
            ],
            [
             0.3333333333333333,
             "#9c179e"
            ],
            [
             0.4444444444444444,
             "#bd3786"
            ],
            [
             0.5555555555555556,
             "#d8576b"
            ],
            [
             0.6666666666666666,
             "#ed7953"
            ],
            [
             0.7777777777777778,
             "#fb9f3a"
            ],
            [
             0.8888888888888888,
             "#fdca26"
            ],
            [
             1,
             "#f0f921"
            ]
           ]
          },
          "colorway": [
           "#636efa",
           "#EF553B",
           "#00cc96",
           "#ab63fa",
           "#FFA15A",
           "#19d3f3",
           "#FF6692",
           "#B6E880",
           "#FF97FF",
           "#FECB52"
          ],
          "font": {
           "color": "#2a3f5f"
          },
          "geo": {
           "bgcolor": "white",
           "lakecolor": "white",
           "landcolor": "#E5ECF6",
           "showlakes": true,
           "showland": true,
           "subunitcolor": "white"
          },
          "hoverlabel": {
           "align": "left"
          },
          "hovermode": "closest",
          "mapbox": {
           "style": "light"
          },
          "paper_bgcolor": "white",
          "plot_bgcolor": "#E5ECF6",
          "polar": {
           "angularaxis": {
            "gridcolor": "white",
            "linecolor": "white",
            "ticks": ""
           },
           "bgcolor": "#E5ECF6",
           "radialaxis": {
            "gridcolor": "white",
            "linecolor": "white",
            "ticks": ""
           }
          },
          "scene": {
           "xaxis": {
            "backgroundcolor": "#E5ECF6",
            "gridcolor": "white",
            "gridwidth": 2,
            "linecolor": "white",
            "showbackground": true,
            "ticks": "",
            "zerolinecolor": "white"
           },
           "yaxis": {
            "backgroundcolor": "#E5ECF6",
            "gridcolor": "white",
            "gridwidth": 2,
            "linecolor": "white",
            "showbackground": true,
            "ticks": "",
            "zerolinecolor": "white"
           },
           "zaxis": {
            "backgroundcolor": "#E5ECF6",
            "gridcolor": "white",
            "gridwidth": 2,
            "linecolor": "white",
            "showbackground": true,
            "ticks": "",
            "zerolinecolor": "white"
           }
          },
          "shapedefaults": {
           "line": {
            "color": "#2a3f5f"
           }
          },
          "ternary": {
           "aaxis": {
            "gridcolor": "white",
            "linecolor": "white",
            "ticks": ""
           },
           "baxis": {
            "gridcolor": "white",
            "linecolor": "white",
            "ticks": ""
           },
           "bgcolor": "#E5ECF6",
           "caxis": {
            "gridcolor": "white",
            "linecolor": "white",
            "ticks": ""
           }
          },
          "title": {
           "x": 0.05
          },
          "xaxis": {
           "automargin": true,
           "gridcolor": "white",
           "linecolor": "white",
           "ticks": "",
           "title": {
            "standoff": 15
           },
           "zerolinecolor": "white",
           "zerolinewidth": 2
          },
          "yaxis": {
           "automargin": true,
           "gridcolor": "white",
           "linecolor": "white",
           "ticks": "",
           "title": {
            "standoff": 15
           },
           "zerolinecolor": "white",
           "zerolinewidth": 2
          }
         }
        },
        "title": {
         "text": "01AM, 04 Jun 20"
        },
        "updatemenus": [
         {
          "buttons": [
           {
            "args": [
             null
            ],
            "label": "Play",
            "method": "animate"
           },
           {
            "args": [
             null,
             {
              "frame": {
               "duration": 0,
               "redraw": false
              },
              "mode": "immediate",
              "transition": {
               "duration": 0
              }
             }
            ],
            "label": "Pause",
            "method": "animate"
           }
          ],
          "type": "buttons"
         }
        ],
        "width": 800,
        "xaxis": {
         "autorange": true,
         "range": [
          -0.35050000000000003,
          -0.251
         ],
         "title": {
          "text": "Longitude"
         },
         "type": "linear"
        },
        "yaxis": {
         "autorange": true,
         "range": [
          51.449999999999996,
          51.540499999999994
         ],
         "title": {
          "text": "Latitude"
         },
         "type": "linear"
        }
       }
      },
      "image/png": "[encoded data removed]",
      "text/html": [
       "<div>\n",
       "        \n",
       "        \n",
       "            <div id=\"ce08675b-7d40-451c-bd17-cfd547349f79\" class=\"plotly-graph-div\" style=\"height:500px; width:800px;\"></div>\n",
       "            <script type=\"text/javascript\">\n",
       "                require([\"plotly\"], function(Plotly) {\n",
       "                    window.PLOTLYENV=window.PLOTLYENV || {};\n",
       "                    \n",
       "                if (document.getElementById(\"ce08675b-7d40-451c-bd17-cfd547349f79\")) {\n",
       "                    Plotly.newPlot(\n",
       "                        'ce08675b-7d40-451c-bd17-cfd547349f79',\n",
       "                        [{\"colorbar\": {\"title\": {\"text\": \"Average Likelihood Ratio Score\"}}, \"type\": \"heatmap\", \"x\": [\"-0.344\", \"-0.331\", \"-0.319\", \"-0.306\", \"-0.294\", \"-0.281\", \"-0.269\", \"-0.257\"], \"y\": [\"51.535\", \"51.524\", \"51.513\", \"51.501\", \"51.490\", \"51.479\", \"51.468\", \"51.456\"], \"z\": [[1.0, 1.000045535795889, 1.0001232001015776, 1.000194314102745, 1.0003512546067403, 1.0002236469842312, 1.0001296960597303, 1.0000732916395525], [1.0000007110486162, 1.0000766398207759, 1.0001749327709726, 1.0002650839530998, 1.0005129460334898, 1.0003218604309414, 1.0002021857361785, 1.0001054052571265], [1.0000011060756253, 1.0001079984175145, 1.0002367069098808, 1.0003631789345773, 1.000755768060717, 1.000482033396851, 1.0003481205304143, 1.0001906464181587], [1.0000005505196883, 1.0000574888065863, 1.000122879629742, 1.0001902135097538, 1.0004032325869532, 1.0002598683838064, 1.0002418383212583, 1.0001162026868324], [1.0000003023808375, 1.0000178747679505, 1.0000335350010994, 1.000058055475379, 1.0001500734381599, 1.0001156425587754, 1.0002255201740484, 1.000098757585826], [1.0000004373544968, 1.000005003364617, 1.0000095737122514, 1.000017888301465, 1.0000486458238333, 1.0000397215506225, 1.0001183777632754, 1.0000481546127054], [1.0000023069106974, 1.0000017726654904, 1.0000002642207835, 1.0000003361751273, 1.000001939675957, 1.0000078734092104, 1.0000497711119778, 1.000017275626822], [1.0000078820156846, 1.000006283636083, 1.000001266591723, 1.0000005501985185, 1.0000011816207592, 1.000004896531549, 1.000031645309318, 1.0000117999631721]], \"zmax\": 1.0014910330153701, \"zmin\": 1}],\n",
       "                        {\"height\": 500, \"template\": {\"data\": {\"bar\": [{\"error_x\": {\"color\": \"#2a3f5f\"}, \"error_y\": {\"color\": \"#2a3f5f\"}, \"marker\": {\"line\": {\"color\": \"#E5ECF6\", \"width\": 0.5}}, \"type\": \"bar\"}], \"barpolar\": [{\"marker\": {\"line\": {\"color\": \"#E5ECF6\", \"width\": 0.5}}, \"type\": \"barpolar\"}], \"carpet\": [{\"aaxis\": {\"endlinecolor\": \"#2a3f5f\", \"gridcolor\": \"white\", \"linecolor\": \"white\", \"minorgridcolor\": \"white\", \"startlinecolor\": \"#2a3f5f\"}, \"baxis\": {\"endlinecolor\": \"#2a3f5f\", \"gridcolor\": \"white\", \"linecolor\": \"white\", \"minorgridcolor\": \"white\", \"startlinecolor\": \"#2a3f5f\"}, \"type\": \"carpet\"}], \"choropleth\": [{\"colorbar\": {\"outlinewidth\": 0, \"ticks\": \"\"}, \"type\": \"choropleth\"}], \"contour\": [{\"colorbar\": {\"outlinewidth\": 0, \"ticks\": \"\"}, \"colorscale\": [[0.0, \"#0d0887\"], [0.1111111111111111, \"#46039f\"], [0.2222222222222222, \"#7201a8\"], [0.3333333333333333, \"#9c179e\"], [0.4444444444444444, \"#bd3786\"], [0.5555555555555556, \"#d8576b\"], [0.6666666666666666, \"#ed7953\"], [0.7777777777777778, \"#fb9f3a\"], [0.8888888888888888, \"#fdca26\"], [1.0, \"#f0f921\"]], \"type\": \"contour\"}], \"contourcarpet\": [{\"colorbar\": {\"outlinewidth\": 0, \"ticks\": \"\"}, \"type\": \"contourcarpet\"}], \"heatmap\": [{\"colorbar\": {\"outlinewidth\": 0, \"ticks\": \"\"}, \"colorscale\": [[0.0, \"#0d0887\"], [0.1111111111111111, \"#46039f\"], [0.2222222222222222, \"#7201a8\"], [0.3333333333333333, \"#9c179e\"], [0.4444444444444444, \"#bd3786\"], [0.5555555555555556, \"#d8576b\"], [0.6666666666666666, \"#ed7953\"], [0.7777777777777778, \"#fb9f3a\"], [0.8888888888888888, \"#fdca26\"], [1.0, \"#f0f921\"]], \"type\": \"heatmap\"}], \"heatmapgl\": [{\"colorbar\": {\"outlinewidth\": 0, \"ticks\": \"\"}, \"colorscale\": [[0.0, \"#0d0887\"], [0.1111111111111111, \"#46039f\"], [0.2222222222222222, \"#7201a8\"], [0.3333333333333333, \"#9c179e\"], [0.4444444444444444, \"#bd3786\"], [0.5555555555555556, \"#d8576b\"], [0.6666666666666666, \"#ed7953\"], [0.7777777777777778, \"#fb9f3a\"], [0.8888888888888888, \"#fdca26\"], [1.0, \"#f0f921\"]], \"type\": \"heatmapgl\"}], \"histogram\": [{\"marker\": {\"colorbar\": {\"outlinewidth\": 0, \"ticks\": \"\"}}, \"type\": \"histogram\"}], \"histogram2d\": [{\"colorbar\": {\"outlinewidth\": 0, \"ticks\": \"\"}, \"colorscale\": [[0.0, \"#0d0887\"], [0.1111111111111111, \"#46039f\"], [0.2222222222222222, \"#7201a8\"], [0.3333333333333333, \"#9c179e\"], [0.4444444444444444, \"#bd3786\"], [0.5555555555555556, \"#d8576b\"], [0.6666666666666666, \"#ed7953\"], [0.7777777777777778, \"#fb9f3a\"], [0.8888888888888888, \"#fdca26\"], [1.0, \"#f0f921\"]], \"type\": \"histogram2d\"}], \"histogram2dcontour\": [{\"colorbar\": {\"outlinewidth\": 0, \"ticks\": \"\"}, \"colorscale\": [[0.0, \"#0d0887\"], [0.1111111111111111, \"#46039f\"], [0.2222222222222222, \"#7201a8\"], [0.3333333333333333, \"#9c179e\"], [0.4444444444444444, \"#bd3786\"], [0.5555555555555556, \"#d8576b\"], [0.6666666666666666, \"#ed7953\"], [0.7777777777777778, \"#fb9f3a\"], [0.8888888888888888, \"#fdca26\"], [1.0, \"#f0f921\"]], \"type\": \"histogram2dcontour\"}], \"mesh3d\": [{\"colorbar\": {\"outlinewidth\": 0, \"ticks\": \"\"}, \"type\": \"mesh3d\"}], \"parcoords\": [{\"line\": {\"colorbar\": {\"outlinewidth\": 0, \"ticks\": \"\"}}, \"type\": \"parcoords\"}], \"pie\": [{\"automargin\": true, \"type\": \"pie\"}], \"scatter\": [{\"marker\": {\"colorbar\": {\"outlinewidth\": 0, \"ticks\": \"\"}}, \"type\": \"scatter\"}], \"scatter3d\": [{\"line\": {\"colorbar\": {\"outlinewidth\": 0, \"ticks\": \"\"}}, \"marker\": {\"colorbar\": {\"outlinewidth\": 0, \"ticks\": \"\"}}, \"type\": \"scatter3d\"}], \"scattercarpet\": [{\"marker\": {\"colorbar\": {\"outlinewidth\": 0, \"ticks\": \"\"}}, \"type\": \"scattercarpet\"}], \"scattergeo\": [{\"marker\": {\"colorbar\": {\"outlinewidth\": 0, \"ticks\": \"\"}}, \"type\": \"scattergeo\"}], \"scattergl\": [{\"marker\": {\"colorbar\": {\"outlinewidth\": 0, \"ticks\": \"\"}}, \"type\": \"scattergl\"}], \"scattermapbox\": [{\"marker\": {\"colorbar\": {\"outlinewidth\": 0, \"ticks\": \"\"}}, \"type\": \"scattermapbox\"}], \"scatterpolar\": [{\"marker\": {\"colorbar\": {\"outlinewidth\": 0, \"ticks\": \"\"}}, \"type\": \"scatterpolar\"}], \"scatterpolargl\": [{\"marker\": {\"colorbar\": {\"outlinewidth\": 0, \"ticks\": \"\"}}, \"type\": \"scatterpolargl\"}], \"scatterternary\": [{\"marker\": {\"colorbar\": {\"outlinewidth\": 0, \"ticks\": \"\"}}, \"type\": \"scatterternary\"}], \"surface\": [{\"colorbar\": {\"outlinewidth\": 0, \"ticks\": \"\"}, \"colorscale\": [[0.0, \"#0d0887\"], [0.1111111111111111, \"#46039f\"], [0.2222222222222222, \"#7201a8\"], [0.3333333333333333, \"#9c179e\"], [0.4444444444444444, \"#bd3786\"], [0.5555555555555556, \"#d8576b\"], [0.6666666666666666, \"#ed7953\"], [0.7777777777777778, \"#fb9f3a\"], [0.8888888888888888, \"#fdca26\"], [1.0, \"#f0f921\"]], \"type\": \"surface\"}], \"table\": [{\"cells\": {\"fill\": {\"color\": \"#EBF0F8\"}, \"line\": {\"color\": \"white\"}}, \"header\": {\"fill\": {\"color\": \"#C8D4E3\"}, \"line\": {\"color\": \"white\"}}, \"type\": \"table\"}]}, \"layout\": {\"annotationdefaults\": {\"arrowcolor\": \"#2a3f5f\", \"arrowhead\": 0, \"arrowwidth\": 1}, \"coloraxis\": {\"colorbar\": {\"outlinewidth\": 0, \"ticks\": \"\"}}, \"colorscale\": {\"diverging\": [[0, \"#8e0152\"], [0.1, \"#c51b7d\"], [0.2, \"#de77ae\"], [0.3, \"#f1b6da\"], [0.4, \"#fde0ef\"], [0.5, \"#f7f7f7\"], [0.6, \"#e6f5d0\"], [0.7, \"#b8e186\"], [0.8, \"#7fbc41\"], [0.9, \"#4d9221\"], [1, \"#276419\"]], \"sequential\": [[0.0, \"#0d0887\"], [0.1111111111111111, \"#46039f\"], [0.2222222222222222, \"#7201a8\"], [0.3333333333333333, \"#9c179e\"], [0.4444444444444444, \"#bd3786\"], [0.5555555555555556, \"#d8576b\"], [0.6666666666666666, \"#ed7953\"], [0.7777777777777778, \"#fb9f3a\"], [0.8888888888888888, \"#fdca26\"], [1.0, \"#f0f921\"]], \"sequentialminus\": [[0.0, \"#0d0887\"], [0.1111111111111111, \"#46039f\"], [0.2222222222222222, \"#7201a8\"], [0.3333333333333333, \"#9c179e\"], [0.4444444444444444, \"#bd3786\"], [0.5555555555555556, \"#d8576b\"], [0.6666666666666666, \"#ed7953\"], [0.7777777777777778, \"#fb9f3a\"], [0.8888888888888888, \"#fdca26\"], [1.0, \"#f0f921\"]]}, \"colorway\": [\"#636efa\", \"#EF553B\", \"#00cc96\", \"#ab63fa\", \"#FFA15A\", \"#19d3f3\", \"#FF6692\", \"#B6E880\", \"#FF97FF\", \"#FECB52\"], \"font\": {\"color\": \"#2a3f5f\"}, \"geo\": {\"bgcolor\": \"white\", \"lakecolor\": \"white\", \"landcolor\": \"#E5ECF6\", \"showlakes\": true, \"showland\": true, \"subunitcolor\": \"white\"}, \"hoverlabel\": {\"align\": \"left\"}, \"hovermode\": \"closest\", \"mapbox\": {\"style\": \"light\"}, \"paper_bgcolor\": \"white\", \"plot_bgcolor\": \"#E5ECF6\", \"polar\": {\"angularaxis\": {\"gridcolor\": \"white\", \"linecolor\": \"white\", \"ticks\": \"\"}, \"bgcolor\": \"#E5ECF6\", \"radialaxis\": {\"gridcolor\": \"white\", \"linecolor\": \"white\", \"ticks\": \"\"}}, \"scene\": {\"xaxis\": {\"backgroundcolor\": \"#E5ECF6\", \"gridcolor\": \"white\", \"gridwidth\": 2, \"linecolor\": \"white\", \"showbackground\": true, \"ticks\": \"\", \"zerolinecolor\": \"white\"}, \"yaxis\": {\"backgroundcolor\": \"#E5ECF6\", \"gridcolor\": \"white\", \"gridwidth\": 2, \"linecolor\": \"white\", \"showbackground\": true, \"ticks\": \"\", \"zerolinecolor\": \"white\"}, \"zaxis\": {\"backgroundcolor\": \"#E5ECF6\", \"gridcolor\": \"white\", \"gridwidth\": 2, \"linecolor\": \"white\", \"showbackground\": true, \"ticks\": \"\", \"zerolinecolor\": \"white\"}}, \"shapedefaults\": {\"line\": {\"color\": \"#2a3f5f\"}}, \"ternary\": {\"aaxis\": {\"gridcolor\": \"white\", \"linecolor\": \"white\", \"ticks\": \"\"}, \"baxis\": {\"gridcolor\": \"white\", \"linecolor\": \"white\", \"ticks\": \"\"}, \"bgcolor\": \"#E5ECF6\", \"caxis\": {\"gridcolor\": \"white\", \"linecolor\": \"white\", \"ticks\": \"\"}}, \"title\": {\"x\": 0.05}, \"xaxis\": {\"automargin\": true, \"gridcolor\": \"white\", \"linecolor\": \"white\", \"ticks\": \"\", \"title\": {\"standoff\": 15}, \"zerolinecolor\": \"white\", \"zerolinewidth\": 2}, \"yaxis\": {\"automargin\": true, \"gridcolor\": \"white\", \"linecolor\": \"white\", \"ticks\": \"\", \"title\": {\"standoff\": 15}, \"zerolinecolor\": \"white\", \"zerolinewidth\": 2}}}, \"title\": {\"text\": \"01AM, 04 Jun 20\"}, \"updatemenus\": [{\"buttons\": [{\"args\": [null], \"label\": \"Play\", \"method\": \"animate\"}, {\"args\": [null, {\"frame\": {\"duration\": 0, \"redraw\": false}, \"mode\": \"immediate\", \"transition\": {\"duration\": 0}}], \"label\": \"Pause\", \"method\": \"animate\"}], \"type\": \"buttons\"}], \"width\": 800, \"xaxis\": {\"title\": {\"text\": \"Longitude\"}}, \"yaxis\": {\"title\": {\"text\": \"Latitude\"}}},\n",
       "                        {\"responsive\": true}\n",
       "                    ).then(function(){\n",
       "                            Plotly.addFrames('ce08675b-7d40-451c-bd17-cfd547349f79', [{\"data\": [{\"z\": [[1.0, 1.000035760217539, 1.000101480635675, 1.000152314005027, 1.0002772077385547, 1.0001707294003606, 1.0000925760819215, 1.000047351319433], [1.0000001343640594, 1.0000621393540048, 1.000136848452828, 1.0001865109509787, 1.0003680884142365, 1.0002180709129962, 1.0001264211250351, 1.0000785520648774], [1.0000002090107591, 1.0000878891061553, 1.0001827482300403, 1.0002495876426822, 1.000543670946379, 1.000329659193792, 1.0002355846045548, 1.0001874992703548], [1.0000000940548417, 1.0000454570339243, 1.0000910034532455, 1.0001218426424836, 1.0002746789091232, 1.0001620841360754, 1.0001597081766413, 1.0001754965737035], [1.0, 1.0000118138723089, 1.000018397437759, 1.00002342964386, 1.0000845756910142, 1.0000583409405197, 1.0001698610646492, 1.000271367844891], [1.0, 1.0000024573758366, 1.0000043679641542, 1.000006507915732, 1.0000266573861234, 1.0000190324864398, 1.0000951382347536, 1.000157943105629], [1.0000000629225505, 1.0000000794954234, 1.0000000093218595, 1.0, 1.000000643849379, 1.0000036245815367, 1.000041562600899, 1.000078956406872], [1.0, 1.0000001943372478, 1.0, 1.0000000046838422, 1.0000004744643263, 1.0000026113009728, 1.0000281497251193, 1.000053773019901]], \"type\": \"heatmap\"}], \"layout\": {\"title\": {\"text\": \"02AM, 04 Jun 20\"}}}, {\"data\": [{\"z\": [[1.0, 1.0000401257304534, 1.000111195933865, 1.0001420370517962, 1.0002572645753036, 1.0001491849260598, 1.0000706385003635, 1.0000357908583752], [1.0000004275016157, 1.0000767505886972, 1.000162306260147, 1.0001873907926133, 1.0003722732727642, 1.0002067724402919, 1.0001097696168941, 1.0001055107847456], [1.000000665002513, 1.0001097134379517, 1.0002207276780959, 1.0002609124964228, 1.0005848844866065, 1.000343371071156, 1.0002530308466566, 1.0003150570601476], [1.000000299251131, 1.0000554920834426, 1.0001072252448884, 1.0001230297942594, 1.000291706387658, 1.0001710219485902, 1.0002035499051445, 1.0004148453587312], [1.0, 1.0000122420727287, 1.0000172383935624, 1.0000166061052658, 1.000088003641002, 1.000074179935985, 1.0002683175978682, 1.0007357076700523], [1.0, 1.0000013886582924, 1.000002427912265, 1.0000038241919673, 1.0000292334972505, 1.0000297531152629, 1.0001611407163202, 1.0004615709208136], [1.000000153107617, 1.0000000594302936, 1.00000002268261, 1.0, 1.0000020227539606, 1.0000090545789553, 1.0000754204497566, 1.000251068351835], [1.0, 1.0000000038625383, 1.0, 1.0, 1.0000014276640141, 1.000006311287973, 1.000050261856798, 1.000164393435476]], \"type\": \"heatmap\"}], \"layout\": {\"title\": {\"text\": \"03AM, 04 Jun 20\"}}}, {\"data\": [{\"z\": [[1.0, 1.0000315731308105, 1.0000908339449925, 1.0001097734669693, 1.000205417802314, 1.000115008431502, 1.0000495151914217, 1.0000247086437821], [1.0000000309517687, 1.0000705493244149, 1.000144321808091, 1.000158006791607, 1.0003279266243144, 1.0001757494950054, 1.0000887142282573, 1.000110604900355], [1.0000000481471953, 1.0001037551100094, 1.0002015880294854, 1.0002285735240324, 1.0005425051843153, 1.000313355971044, 1.0002314624747564, 1.0003491289223025], [1.000000021666238, 1.0000520122583967, 1.0000965610489927, 1.0001058710512671, 1.0002672452712005, 1.0001540679277003, 1.0001921175831798, 1.0004884689226818], [1.0, 1.0000106449177841, 1.000013211752281, 1.0000113264695893, 1.0000786158259816, 1.0000691435678302, 1.000265793939171, 1.0008782107752778], [1.0, 1.000001106440637, 1.0000019215425637, 1.000002807843959, 1.0000266506876916, 1.0000272221247477, 1.0001521964729871, 1.0005332871294113], [1.0000000919987537, 1.0000000350471443, 1.000000013629445, 1.0, 1.0000014351190611, 1.0000072975397818, 1.0000702248152575, 1.0002869251376454], [1.0, 1.0, 1.0, 1.0, 1.0000010755391575, 1.0000052669747266, 1.0000470646860413, 1.0001875087827192]], \"type\": \"heatmap\"}], \"layout\": {\"title\": {\"text\": \"04AM, 04 Jun 20\"}}}, {\"data\": [{\"z\": [[1.0, 1.0000291962607322, 1.0000816672420467, 1.0001246279303575, 1.0002255087832328, 1.0001276014514302, 1.0000574262910364, 1.0000253080306842], [1.0, 1.0000535724876196, 1.0001151666324914, 1.000158938664421, 1.0003209861489055, 1.0001736392810094, 1.0000867315732855, 1.0000976755837085], [1.0, 1.0000769165037844, 1.0001574797924908, 1.0002214403383978, 1.0005154373851586, 1.000301310471505, 1.0002196627641164, 1.0003219288085012], [1.0, 1.00003769542285, 1.000074149632749, 1.0001019730056027, 1.0002546400243704, 1.0001523765433686, 1.0001848733088003, 1.0004642957466925], [1.0, 1.0000061659922939, 1.0000078682396096, 1.0000096436569426, 1.0000751188988972, 1.0000742985161333, 1.000255309218871, 1.0008450136559575], [1.0, 1.0000007968074447, 1.000001442801705, 1.0000024861529773, 1.0000259730602172, 1.0000302106226862, 1.0001417889341742, 1.0005018581178284], [1.0000005320579897, 1.000000202688758, 1.0000000788234058, 1.0, 1.0000020159955787, 1.0000096521231117, 1.0000673952651329, 1.000272006224438], [1.0, 1.0, 1.0, 1.0, 1.0000014744098122, 1.0000067903722123, 1.0000450856169874, 1.0001780355910719]], \"type\": \"heatmap\"}], \"layout\": {\"title\": {\"text\": \"05AM, 04 Jun 20\"}}}, {\"data\": [{\"z\": [[1.0, 1.0000340313399154, 1.0000926848281846, 1.0001526939297363, 1.000274671714725, 1.0001685702878778, 1.00009043277424, 1.0000448424249093], [1.0, 1.000044409374061, 1.000101091001927, 1.0001495499287243, 1.000303447254903, 1.000183268702855, 1.0001136593084143, 1.0001362496813457], [1.0, 1.0000571779079312, 1.000123702539974, 1.0001809212521282, 1.0004266184197494, 1.0002746613787803, 1.0002265529832108, 1.0003647022306592], [1.0, 1.000027531774412, 1.0000583162756138, 1.0000840958385206, 1.0002187221842878, 1.0001570108552735, 1.0002082448344625, 1.0005351035116898], [1.0, 1.0000036034316855, 1.00000509184816, 1.0000063705450812, 1.0000709384101905, 1.000093507125902, 1.0002808547840634, 1.0009285952517675], [1.0, 1.000000674884591, 1.0000012689853515, 1.0000017912068162, 1.0000250954204564, 1.000038579805156, 1.0001495817927142, 1.0005237113231444], [1.0000014449064345, 1.0000005504405465, 1.0000002140602124, 1.0, 1.0000045860851206, 1.000016178132873, 1.0000784615178693, 1.00029801230589], [1.0, 1.0, 1.0, 1.0, 1.0000030190913936, 1.0000105356864795, 1.0000507172471003, 1.0001902551881088]], \"type\": \"heatmap\"}], \"layout\": {\"title\": {\"text\": \"06AM, 04 Jun 20\"}}}, {\"data\": [{\"z\": [[1.0, 1.000037335879896, 1.0000979472451692, 1.000147080855843, 1.0002366970096825, 1.0001446664811273, 1.0000740775246117, 1.000039623252582], [1.0, 1.000054349144214, 1.0001226982046876, 1.0001654961212871, 1.0002821879726664, 1.000172102700349, 1.0001028371662692, 1.0001273597815226], [1.0, 1.0000720927486657, 1.0001565583529677, 1.0002078006799646, 1.000393266190334, 1.0002597162538285, 1.00020631811903, 1.0003169351300245], [1.0000002412796007, 1.0000370082300476, 1.0000797175178364, 1.0001051032302395, 1.0002202420713984, 1.0001722385753202, 1.000206640334602, 1.000469069978951], [1.0000004825592015, 1.000009132986296, 1.0000171071904194, 1.0000202815733565, 1.0000903972263884, 1.000119784315498, 1.0002678859257033, 1.0007773036899064], [1.0000017846403297, 1.000005379478385, 1.0000141316181195, 1.000009487524431, 1.0000368067645247, 1.0000559021954671, 1.0001489780915802, 1.0004435311814117], [1.000006596509278, 1.0000029084624114, 1.0000038809627017, 1.0, 1.0000102341146035, 1.000028839835097, 1.0000909923210974, 1.0002786254921], [1.0, 1.0000000134592133, 1.000000212505621, 1.0000004013813397, 1.0000075804715096, 1.0000187433366092, 1.000057745314303, 1.0001743256568862]], \"type\": \"heatmap\"}], \"layout\": {\"title\": {\"text\": \"07AM, 04 Jun 20\"}}}, {\"data\": [{\"z\": [[1.0000013533225216, 1.0000679146465423, 1.0001595882968468, 1.0002308670633637, 1.00033232272509, 1.0002100837317534, 1.0001204654974272, 1.0000766554520621], [1.0000082093922342, 1.000095256304287, 1.0001988127426489, 1.0002589901233208, 1.0003724071148916, 1.0002390946711606, 1.0001610077194971, 1.00019987911841], [1.0000136642204156, 1.000124355437064, 1.0002507298913395, 1.0003150980756923, 1.0004744282152063, 1.000326444269124, 1.0002700274357246, 1.0004101696589067], [1.0000089252122852, 1.0000666135634986, 1.0001331828363982, 1.00016623341715, 1.0002818719216584, 1.000239081442817, 1.0002850570971065, 1.0006036404995267], [1.0000055526261964, 1.0000214806831347, 1.0000389430527001, 1.0000433805987377, 1.0001347047964972, 1.000186326777428, 1.0003607172596087, 1.0009661550306932], [1.0000095835400193, 1.0000159261295318, 1.0000325725597659, 1.0000224310453016, 1.0000651127109506, 1.0001028105093446, 1.000218492807931, 1.0005769100750894], [1.0000158529229715, 1.0000083682482332, 1.000009944263069, 1.0000010793313836, 1.0000262589201894, 1.000066067246666, 1.0001538209252918, 1.0003977772221897], [1.0000000250958736, 1.0000025448608763, 1.0000049397997999, 1.0000047145045512, 1.0000244899528759, 1.0000475823922566, 1.000101587826443, 1.0002508432823027]], \"type\": \"heatmap\"}], \"layout\": {\"title\": {\"text\": \"08AM, 04 Jun 20\"}}}, {\"data\": [{\"z\": [[1.0000023934496498, 1.0000769684802928, 1.0001880262319167, 1.0002783165594729, 1.0004120920120918, 1.0002766940455172, 1.0001800328104158, 1.0001297332431487], [1.0000129609073216, 1.0001048818470848, 1.0002244886028573, 1.0002944165817842, 1.0004321770436109, 1.0003023845029397, 1.0002367939783297, 1.000279668718278], [1.0000225319647609, 1.0001359158579055, 1.0002786027188708, 1.0003439672669459, 1.0005174134264692, 1.0003883421604831, 1.0003531047029186, 1.000496531626036], [1.000017275220978, 1.0000762936481058, 1.0001542533990837, 1.0001902985947055, 1.0003316807184752, 1.0003215291443337, 1.0004008813650902, 1.0007241923023866], [1.0000154482717565, 1.0000321424807241, 1.000056678954787, 1.0000627874461245, 1.0001910695614489, 1.000290194097805, 1.0005166556307998, 1.0011310162649358], [1.000025029085179, 1.000030628418085, 1.0000535418476393, 1.0000408865988741, 1.0001137659945392, 1.000194480838685, 1.0003481933946397, 1.0007179562129322], [1.0000337098849579, 1.0000229577329565, 1.0000264654817421, 1.0000162143868114, 1.0000731722939296, 1.0001590808451626, 1.0002846541467654, 1.0005482266135635], [1.0000094587105508, 1.000020926146491, 1.0000264565894663, 1.000022330698617, 1.0000629299378627, 1.0001146683981064, 1.000190797730088, 1.0003511518938346]], \"type\": \"heatmap\"}], \"layout\": {\"title\": {\"text\": \"09AM, 04 Jun 20\"}}}, {\"data\": [{\"z\": [[1.0000008560133482, 1.0000708120161366, 1.0001843962341803, 1.0002849982633986, 1.0004636292178344, 1.0003270981546264, 1.0002283273811734, 1.000175966664862], [1.000007716683769, 1.0000863295990967, 1.0001986863268857, 1.0002664439459807, 1.0004434574349732, 1.0003286038359813, 1.0002787438942176, 1.0003350017100772], [1.0000139272378439, 1.00010346046867, 1.0002284822726049, 1.000278508730179, 1.0004823049252733, 1.0003847150545466, 1.0003729701903408, 1.0005412581618087], [1.0000123479244645, 1.0000577560974468, 1.0001262530473711, 1.000154137007605, 1.0003137135419111, 1.0003240146180388, 1.0004172424639415, 1.0007624937319224], [1.0000142853178566, 1.0000249247419462, 1.0000461979312847, 1.0000496773255803, 1.0001871456118279, 1.0002983787148318, 1.0005310524761823, 1.0011616282417495], [1.000025500655162, 1.000026699257017, 1.0000474505494479, 1.0000359567160528, 1.0001154857982244, 1.0002020606079145, 1.0003531017047893, 1.0007274326870506], [1.00003978742549, 1.0000259408452898, 1.0000281345236968, 1.0000176089264983, 1.0000777400771308, 1.0001644551444617, 1.0002851515320268, 1.0005493286862532], [1.0000192081010741, 1.0000295978293885, 1.0000330219931781, 1.0000239656066738, 1.0000660567933957, 1.0001176006210046, 1.0001900153425531, 1.0003502937696478]], \"type\": \"heatmap\"}], \"layout\": {\"title\": {\"text\": \"10AM, 04 Jun 20\"}}}, {\"data\": [{\"z\": [[1.0000003513477567, 1.0000633305439128, 1.0001714826307277, 1.0002753743782264, 1.0004703654972116, 1.0003420374255645, 1.0002453837219683, 1.0002005344459608], [1.0000055487736004, 1.0000714108149293, 1.0001715413341983, 1.0002363115117974, 1.000424236365065, 1.0003269493133429, 1.0002914952187578, 1.000381803079503], [1.0000099369676207, 1.0000801541069368, 1.000185760764182, 1.0002281029146398, 1.000434799887623, 1.0003624696567253, 1.0003683109183068, 1.000586595735133], [1.0000089841849078, 1.000043948455017, 1.0001018326901352, 1.0001256676228996, 1.0002860323520044, 1.0003091686889194, 1.0004101979664943, 1.000816585303514], [1.0000115476514873, 1.0000180978257789, 1.0000353339153838, 1.0000383870555676, 1.0001762678293638, 1.0002917231526736, 1.0005284506098193, 1.0012435564606785], [1.0000209799522743, 1.0000187903859772, 1.000033110522884, 1.0000245543437412, 1.0001002294013341, 1.000182513961844, 1.0003314844422466, 1.0007470475718867], [1.0000385849063365, 1.0000227930009888, 1.0000221181019435, 1.0000131391596092, 1.000069983192474, 1.0001495063007426, 1.0002682448230773, 1.0005586793293781], [1.0000253297996484, 1.0000300094780215, 1.0000299118826075, 1.00001949417795, 1.000059503062007, 1.0001063644473018, 1.00017839289285, 1.0003549184521778]], \"type\": \"heatmap\"}], \"layout\": {\"title\": {\"text\": \"11AM, 04 Jun 20\"}}}, {\"data\": [{\"z\": [[1.0000002769866416, 1.0000498640273339, 1.0001445918737986, 1.0002349675443156, 1.0003970272364229, 1.0002850331903301, 1.000190970601048, 1.0001569489115645], [1.0000048264233388, 1.000059705477876, 1.0001508536600918, 1.0002081345974871, 1.0003661438033538, 1.0002755466728384, 1.0002299629597724, 1.0003198463178145], [1.0000084115446009, 1.0000663166976547, 1.0001623013836518, 1.0002005007338512, 1.0003753875017016, 1.0003111835258343, 1.0003072640952528, 1.0005089035375025], [1.0000073692343725, 1.000036234277715, 1.00008951498149, 1.0001117313753785, 1.0002520732332163, 1.0002722325549718, 1.0003516907267986, 1.0007127099794635], [1.000010493664902, 1.0000151718682704, 1.0000313243812042, 1.0000346509787739, 1.0001583513591086, 1.0002570992225042, 1.0004543907539676, 1.0010756843871176], [1.0000195350453323, 1.000015439832063, 1.0000280502432293, 1.000022710778656, 1.000092894469038, 1.0001663616998393, 1.0002854651169044, 1.0006384924923861], [1.0000409999817055, 1.0000220906669586, 1.0000202333436248, 1.000012918580801, 1.0000660834193575, 1.0001379524000533, 1.0002334139015012, 1.0004888161652237], [1.000035625799361, 1.0000317020131906, 1.0000286230298998, 1.0000186916198552, 1.000056402976385, 1.0000988727581446, 1.0001558004602855, 1.000311231002033]], \"type\": \"heatmap\"}], \"layout\": {\"title\": {\"text\": \"12PM, 04 Jun 20\"}}}, {\"data\": [{\"z\": [[1.0000000512903688, 1.0000343828331795, 1.0001046874491242, 1.0001676421721977, 1.0002838480880694, 1.000209758952446, 1.000144639460359, 1.0001295531406238], [1.000003157328701, 1.000045085625705, 1.0001199438256563, 1.0001627880015767, 1.0002923378413424, 1.0002294613826672, 1.000202683648628, 1.0003060090229574], [1.0000054742166864, 1.0000501666944837, 1.0001315072200951, 1.0001599608365812, 1.0003079202495775, 1.000266694989145, 1.0002755068986486, 1.0004779254769947], [1.0000052905503574, 1.0000273772404893, 1.0000729887444175, 1.0000900818793674, 1.0002149392188961, 1.0002449243018714, 1.0003252093221089, 1.0006711429691968], [1.0000096795447504, 1.000011971976111, 1.0000257688219674, 1.0000271865719064, 1.0001417498318976, 1.0002370911941791, 1.0004208053266836, 1.0010025912068303], [1.0000186859218774, 1.0000125271686275, 1.0000220995398015, 1.0000161959066451, 1.0000796297833359, 1.00014975670014, 1.0002581897244813, 1.0005843158653391], [1.0000441356683223, 1.0000214232850986, 1.000017868144503, 1.0000093354130386, 1.0000585495214624, 1.0001280332752855, 1.0002148528765342, 1.0004573950547144], [1.0000453592187306, 1.0000321351389043, 1.0000274329077528, 1.0000157829770955, 1.000049976895713, 1.0000916705005354, 1.000142923600422, 1.0002909379762341]], \"type\": \"heatmap\"}], \"layout\": {\"title\": {\"text\": \"01PM, 04 Jun 20\"}}}, {\"data\": [{\"z\": [[1.0000000841154781, 1.0000236707555235, 1.00008044252157, 1.0001282703247876, 1.0002164780536242, 1.0001667313633824, 1.0001166421798948, 1.000110775987339], [1.0000030247175646, 1.0000353621321783, 1.0000999663817611, 1.0001328019954563, 1.0002383300766235, 1.0001947118716767, 1.000178422152084, 1.000286469790105], [1.0000053144432974, 1.000040456168664, 1.0001124331303581, 1.000132348557425, 1.0002527706412758, 1.000227497836092, 1.000241335519394, 1.0004375633553575], [1.000005611093639, 1.0000228134266906, 1.0000639557244841, 1.0000760649617129, 1.0001836348902224, 1.000217595234004, 1.0002913825447008, 1.0006162019612153], [1.0000139834528905, 1.000014126642829, 1.000026256812563, 1.0000243523837897, 1.0001281372243533, 1.0002152154238755, 1.0003796761090507, 1.0009147095796553], [1.0000288835893525, 1.0000203030214145, 1.0000279119250974, 1.000017187640381, 1.000072811198481, 1.0001341830806403, 1.0002259093346275, 1.000518010369993], [1.0000652710749252, 1.0000369441161632, 1.0000290147811437, 1.0000148676178606, 1.0000605882686293, 1.0001237237196472, 1.000194294634064, 1.000410439376521], [1.0000875635777133, 1.000066039584439, 1.0000502248208656, 1.0000267936751606, 1.0000551385157863, 1.000090722921303, 1.0001303896652323, 1.000261296788472]], \"type\": \"heatmap\"}], \"layout\": {\"title\": {\"text\": \"02PM, 04 Jun 20\"}}}, {\"data\": [{\"z\": [[1.0000000609435427, 1.000013182184087, 1.000052998802695, 1.00008066502154, 1.0001365176861678, 1.0001146342909384, 1.0000804828180976, 1.0000848983063984], [1.0000024302224306, 1.0000259540635479, 1.0000791799880673, 1.0000985551129886, 1.0001797704971827, 1.000152949755455, 1.0001446712592228, 1.000249436229235], [1.0000043647219101, 1.0000312155195685, 1.0000938213788275, 1.000102775188266, 1.0002002296518329, 1.0001859304979248, 1.0002028769803029, 1.0003763466995301], [1.0000055451517347, 1.0000183872625865, 1.0000548638095776, 1.000061220256409, 1.000155268453315, 1.0001909294676061, 1.000259455195972, 1.0005397983640185], [1.000018262963803, 1.000016159079977, 1.00002684479964, 1.0000227085039899, 1.0001201880218737, 1.0002002318126828, 1.0003482760648177, 1.000800880815045], [1.000039427517115, 1.0000282754369827, 1.000035661239463, 1.0000218473766043, 1.0000765580184703, 1.0001348504014995, 1.0002137311289137, 1.000456959147301], [1.0000887896314594, 1.0000533803567377, 1.0000432010765954, 1.0000248632931263, 1.0000738268729013, 1.0001383530493753, 1.0001971368037024, 1.000385809590842], [1.0001309859099659, 1.0001001051638565, 1.0000780646575067, 1.0000438441570185, 1.0000703612047783, 1.0001046127019664, 1.000134614239887, 1.0002486482285078]], \"type\": \"heatmap\"}], \"layout\": {\"title\": {\"text\": \"03PM, 04 Jun 20\"}}}, {\"data\": [{\"z\": [[1.0000001976718602, 1.0000055714614056, 1.0000322541947444, 1.0000427229898765, 1.0000732149181695, 1.0000732576893065, 1.0000570253546195, 1.0000776455747815], [1.000002517773645, 1.000017926398456, 1.000059721311842, 1.000064728295213, 1.0001246907160652, 1.0001206403540681, 1.000133152644292, 1.0002599979057631], [1.0000046700419791, 1.0000236474692212, 1.0000757498663704, 1.000070915420777, 1.0001470175215839, 1.0001546957800762, 1.0001955638725477, 1.000388462079049], [1.0000068801798683, 1.000015390232049, 1.0000464569838938, 1.0000446520857575, 1.0001295088229145, 1.0001802331367071, 1.0002738180900421, 1.00057939952376], [1.0000268043990914, 1.0000213765465569, 1.0000294618100296, 1.000019943388878, 1.00011799161713, 1.0002082310191398, 1.0003837452666924, 1.0008670587030803], [1.0000582059180612, 1.0000419680137373, 1.0000468791533113, 1.000024359553255, 1.0000772247624827, 1.000139100999748, 1.0002314736736344, 1.0004902242423444], [1.0001257639064998, 1.0000788153680258, 1.000061006963289, 1.0000316547035792, 1.000077900880041, 1.0001425743252885, 1.0002041927952237, 1.0003992933614545], [1.000200519716235, 1.000153279906049, 1.000113614294507, 1.0000598511073655, 1.0000760918468832, 1.0001071796413736, 1.0001367985012894, 1.000253594272561]], \"type\": \"heatmap\"}], \"layout\": {\"title\": {\"text\": \"04PM, 04 Jun 20\"}}}, {\"data\": [{\"z\": [[1.000001083114881, 1.0000033252392961, 1.0000237500816724, 1.000026681666443, 1.0000420070820135, 1.0000542038956868, 1.0000481436350883, 1.00008129050556], [1.0000042422086777, 1.000016823773463, 1.0000542042581537, 1.0000522067480497, 1.000095817714686, 1.0001033580294292, 1.000127881338253, 1.0002723967580274], [1.000007418675408, 1.000024245110841, 1.0000731469752775, 1.000060908983453, 1.0001157278803106, 1.000130171286708, 1.0001804685206563, 1.0003782996200787], [1.0000098235623287, 1.0000170118185887, 1.000046147075672, 1.000038880201372, 1.0001107452260283, 1.000160526694143, 1.0002606891306145, 1.0005677200806455], [1.0000358448738254, 1.0000277563811408, 1.0000341393404084, 1.0000200894403835, 1.0001130368171225, 1.0001965933688648, 1.0003729799327576, 1.0008517657387517], [1.0000761079245448, 1.000053833958909, 1.0000535102266552, 1.0000252033286452, 1.000072928293118, 1.000126964525746, 1.000217679880895, 1.000470999331399], [1.0001588603234726, 1.0000986619157641, 1.000072154703908, 1.000035333065893, 1.0000775520923277, 1.0001332622513588, 1.000187420924282, 1.0003738008796537], [1.0002586400360696, 1.0001908124028787, 1.0001344141698922, 1.0000675384027122, 1.000076162951784, 1.0000999110793776, 1.0001242072349883, 1.0002352194611697]], \"type\": \"heatmap\"}], \"layout\": {\"title\": {\"text\": \"05PM, 04 Jun 20\"}}}, {\"data\": [{\"z\": [[1.0000082185018795, 1.0000070866220878, 1.0000307331322862, 1.0000340956191844, 1.0000507469237339, 1.0000694309280307, 1.0000680263253447, 1.0001126188169196], [1.0000109063287477, 1.0000234333070994, 1.0000674492738564, 1.0000670430112815, 1.0001172683207862, 1.0001323526621766, 1.0001647408407024, 1.000330125557945], [1.0000156085135947, 1.0000335856336942, 1.0000919257601668, 1.000080293743325, 1.0001414623776361, 1.0001642973401246, 1.0002187804115568, 1.000433207248403], [1.0000156014977868, 1.0000236923923973, 1.00006043644387, 1.0000555871826753, 1.00014170635751, 1.0002050018958888, 1.0003076078758955, 1.0006325804817873], [1.0000431476019138, 1.0000364010566707, 1.0000482770399715, 1.0000367005573727, 1.0001524897705787, 1.0002540648861193, 1.0004337401819832, 1.0009362360225509], [1.000088243456277, 1.0000669536638267, 1.0000699609663477, 1.0000409231462315, 1.0001042365751405, 1.0001732897096582, 1.0002625240673029, 1.000531573601154], [1.0001779178764922, 1.0001180906325482, 1.0000911251330864, 1.0000528019998645, 1.000108927904389, 1.000177999678275, 1.0002278510376075, 1.0004249639174332], [1.000286884153193, 1.0002265606802703, 1.000162981939036, 1.000087220874975, 1.0000993087380317, 1.0001291675848694, 1.0001497395362302, 1.0002673798173907]], \"type\": \"heatmap\"}], \"layout\": {\"title\": {\"text\": \"06PM, 04 Jun 20\"}}}, {\"data\": [{\"z\": [[1.0000101226130098, 1.000008285974923, 1.0000373654220451, 1.0000438362503554, 1.0000644497088451, 1.0000786052398392, 1.0000698581345442, 1.0001074458951296], [1.000013310745531, 1.000026672506168, 1.0000775963367712, 1.0000782259818675, 1.0001297105275664, 1.0001383635618102, 1.000159544866077, 1.0003101841602238], [1.00001841976221, 1.0000371809159045, 1.0001030892930203, 1.0000911797758993, 1.0001522467094182, 1.000171054348691, 1.0002131965091907, 1.0004115986469666], [1.000016164876179, 1.000024809615509, 1.0000664905278955, 1.0000638454890012, 1.0001540022814237, 1.000218532986323, 1.0003075352211321, 1.0006121881690757], [1.0000398317712755, 1.0000351121375444, 1.0000501404871014, 1.0000436798502057, 1.0001689222504953, 1.000277038206165, 1.0004414050673098, 1.0009150315058377], [1.0000802328331622, 1.0000630446114445, 1.000067274717364, 1.0000478479329258, 1.0001241951972546, 1.000203788995296, 1.0002829319159996, 1.0005357094861518], [1.0001671750195773, 1.0001169525958953, 1.0000941697757313, 1.0000662958105173, 1.000140685500578, 1.0002249153757135, 1.0002687978946012, 1.0004583461987893], [1.0002722076952715, 1.0002308069670192, 1.0001716282533357, 1.0001008397373594, 1.0001247219536364, 1.000163719840419, 1.0001796524197684, 1.0002926456742225]], \"type\": \"heatmap\"}], \"layout\": {\"title\": {\"text\": \"07PM, 04 Jun 20\"}}}, {\"data\": [{\"z\": [[1.000017184499783, 1.0000157974221224, 1.000056233470401, 1.0000671586880112, 1.0000904899896246, 1.0000995583069556, 1.0000876351244814, 1.0001274097342865], [1.0000223538388213, 1.0000402853757104, 1.0001055701554658, 1.0001081029726477, 1.0001590905262094, 1.0001606797629037, 1.0001799431283998, 1.0003345945753215], [1.0000300422958261, 1.0000546828274763, 1.000137004545645, 1.0001227688332903, 1.0001752833158928, 1.0001853911026066, 1.0002233982858855, 1.0004187157057745], [1.0000216892844918, 1.0000337089832967, 1.0000840937139897, 1.0000795779449787, 1.0001643565508866, 1.0002236070450152, 1.0003100536139593, 1.0006048269782721], [1.0000405355367326, 1.000037295488515, 1.000054989875159, 1.0000465339784226, 1.0001683484967403, 1.0002732974537607, 1.000435133714186, 1.0008873064316859], [1.000079399656579, 1.0000639073399387, 1.000071175664284, 1.000049715769945, 1.000123266514712, 1.0002005762234654, 1.000277900241721, 1.000516369608749], [1.0001680343692414, 1.0001194749514972, 1.0000983962044039, 1.000069579820558, 1.0001435296457553, 1.0002270941430391, 1.0002690417840565, 1.0004469733329535], [1.0002823708253004, 1.000240990687233, 1.0001816406224986, 1.0001077647600833, 1.0001288855839703, 1.0001664238249544, 1.0001803416124806, 1.0002855904642212]], \"type\": \"heatmap\"}], \"layout\": {\"title\": {\"text\": \"08PM, 04 Jun 20\"}}}, {\"data\": [{\"z\": [[1.0000232860896865, 1.0000234283733587, 1.000075090413727, 1.000096478500439, 1.0001349068985272, 1.0001373120683654, 1.0001205951316021, 1.0001637920686035], [1.0000268547334554, 1.0000490669781574, 1.0001253008075808, 1.0001352588867607, 1.0001991130004115, 1.0001964259311764, 1.0002179434117264, 1.0003900553723344], [1.0000341943233155, 1.0000636870496507, 1.0001566347581514, 1.0001471320831228, 1.000207823383127, 1.0002145924681856, 1.0002556553284558, 1.000474600905314], [1.0000230030689141, 1.0000374868204942, 1.0000931407921507, 1.000092122553057, 1.0001858067254619, 1.000248750125123, 1.0003441635233674, 1.000675553964005], [1.0000416758429413, 1.0000381462555392, 1.0000556271723133, 1.0000492140792583, 1.0001818638703066, 1.0002978193980323, 1.0004777329351384, 1.000987843981675], [1.0000831471856135, 1.0000660816181137, 1.0000707899663823, 1.0000523984086829, 1.0001352712036513, 1.000223768747861, 1.0003139719186194, 1.0005871496726437], [1.0001808152772058, 1.0001289293533557, 1.000103794172054, 1.0000767867829303, 1.000161630667851, 1.0002602533425748, 1.0003152049495831, 1.0005177376863792], [1.0003186901016692, 1.0002692029610714, 1.0001984834047666, 1.0001181309728175, 1.000143101505349, 1.0001901437844136, 1.0002124241205845, 1.0003324109715543]], \"type\": \"heatmap\"}], \"layout\": {\"title\": {\"text\": \"09PM, 04 Jun 20\"}}}, {\"data\": [{\"z\": [[1.0000212055654236, 1.0000242955256298, 1.0000823909994374, 1.0001080521530745, 1.000156118872924, 1.0001533790061852, 1.0001327044766652, 1.0001735844634954], [1.0000243019403678, 1.0000499823142963, 1.0001326736687666, 1.0001436832674062, 1.0002175808211047, 1.0002154843609226, 1.0002387609531342, 1.000418625935995], [1.0000305200650528, 1.0000633299076045, 1.0001625073030718, 1.0001517614334707, 1.0002236336435153, 1.000238060810099, 1.0002873274994366, 1.0005291291494014], [1.0000200151950107, 1.0000362366268345, 1.0000955573536676, 1.0000963293243834, 1.0002063822273126, 1.000287218849262, 1.0004002866795263, 1.000775525842902], [1.0000403935747009, 1.0000376631615704, 1.000055885637197, 1.000053730592336, 1.0002108333024864, 1.000358016172399, 1.0005726456255355, 1.0011608983627776], [1.0000845049704539, 1.0000693820443427, 1.0000742731687027, 1.0000617055482188, 1.000163119377871, 1.0002758222616794, 1.0003863696104234, 1.0007067241304626], [1.0001906320539002, 1.0001423913505423, 1.0001174257516532, 1.0000955783814114, 1.0001956113506256, 1.000316794808586, 1.000383392383277, 1.0006156653550893], [1.0003487602933672, 1.0003052985922067, 1.0002284054577617, 1.0001428571875777, 1.0001712667835214, 1.0002300695563364, 1.0002577714269696, 1.0003950468485363]], \"type\": \"heatmap\"}], \"layout\": {\"title\": {\"text\": \"10PM, 04 Jun 20\"}}}, {\"data\": [{\"z\": [[1.0000179431091483, 1.000021946905289, 1.0000799303878845, 1.000105776920633, 1.000159582283749, 1.0001570220169222, 1.0001363328217538, 1.0001787360501155], [1.000020258624163, 1.000045215162572, 1.0001251950896957, 1.0001355774154148, 1.0002193205730407, 1.0002254841134663, 1.0002632599877315, 1.0004631642989537], [1.0000249008915914, 1.0000550829684005, 1.000148050981481, 1.0001361935533735, 1.0002218537449359, 1.0002548187146219, 1.0003383871294202, 1.00062534821581], [1.0000160558407223, 1.0000304640874156, 1.0000853323211425, 1.0000881229098384, 1.0002188133161494, 1.0003281222879352, 1.0004997284567596, 1.000955052262647], [1.0000375175963643, 1.0000330120225285, 1.0000474967618789, 1.0000514541229886, 1.000241947742209, 1.0004353443537166, 1.0007503667267508, 1.0014773044268739], [1.0000820455180115, 1.0000653404617408, 1.0000669840706569, 1.0000624973562602, 1.0001874451505626, 1.0003316364343797, 1.000503624407477, 1.0009061874502327], [1.000194027469606, 1.0001441750450912, 1.0001175409092602, 1.000102807673639, 1.0002212194768196, 1.000368958841722, 1.0004738485199753, 1.0007601652070186], [1.0003629805397987, 1.0003163295063893, 1.0002342456417663, 1.0001503901726887, 1.0001893749265853, 1.0002647981597566, 1.0003150287321783, 1.0004851037498166]], \"type\": \"heatmap\"}], \"layout\": {\"title\": {\"text\": \"11PM, 04 Jun 20\"}}}, {\"data\": [{\"z\": [[1.0000132148285035, 1.0000173384561593, 1.000070861718401, 1.0000954258470078, 1.0001487354479512, 1.0001492564779046, 1.0001301003542697, 1.0001730402234799], [1.000015201217623, 1.0000379981550116, 1.000111290850145, 1.000120369045429, 1.0002023420967099, 1.000212585118887, 1.0002540480900877, 1.0004542809180594], [1.0000187337278126, 1.0000455340261294, 1.0001295670517352, 1.0001165544102606, 1.0001997422867015, 1.0002373885603293, 1.0003288567532647, 1.0006185656845978], [1.000012378030489, 1.0000249725631187, 1.0000742587158624, 1.000075479890352, 1.000201703046268, 1.0003116611646314, 1.0004935208295243, 1.0009524794692344], [1.0000349512710818, 1.0000299607071537, 1.0000414481495317, 1.0000434309553996, 1.0002281127728825, 1.000420000254504, 1.0007534305594559, 1.0014910330153701], [1.0000789885463108, 1.000062961555621, 1.0000642967155087, 1.0000578748984446, 1.0001796264356717, 1.0003230874820288, 1.000508596973379, 1.0009188777619802], [1.000190281145781, 1.0001419774414706, 1.0001156300289593, 1.0000990437796733, 1.0002152227152565, 1.000362429340043, 1.0004774174711868, 1.0007678659688408], [1.000360249803137, 1.000314310603452, 1.0002323856617026, 1.0001465481095508, 1.0001842034399, 1.0002601985823159, 1.0003173779690773, 1.0004905403468691]], \"type\": \"heatmap\"}], \"layout\": {\"title\": {\"text\": \"12AM, 05 Jun 20\"}}}]);\n",
       "                        }).then(function(){\n",
       "                            \n",
       "var gd = document.getElementById('ce08675b-7d40-451c-bd17-cfd547349f79');\n",
       "var x = new MutationObserver(function (mutations, observer) {{\n",
       "        var display = window.getComputedStyle(gd).display;\n",
       "        if (!display || display === 'none') {{\n",
       "            console.log([gd, 'removed!']);\n",
       "            Plotly.purge(gd);\n",
       "            observer.disconnect();\n",
       "        }}\n",
       "}});\n",
       "\n",
       "// Listen for the removal of the full notebook cells\n",
       "var notebookContainer = gd.closest('#notebook-container');\n",
       "if (notebookContainer) {{\n",
       "    x.observe(notebookContainer, {childList: true});\n",
       "}}\n",
       "\n",
       "// Listen for the clearing of the current output cell\n",
       "var outputEl = gd.closest('.output');\n",
       "if (outputEl) {{\n",
       "    x.observe(outputEl, {childList: true});\n",
       "}}\n",
       "\n",
       "                        })\n",
       "                };\n",
       "                });\n",
       "            </script>\n",
       "        </div>"
      ]
     },
     "metadata": {},
     "output_type": "display_data"
    }
   ],
   "source": [
    "visualise_results(scores, x, y, t, av_l_max, smooth=False)"
   ]
  },
  {
   "cell_type": "markdown",
   "metadata": {},
   "source": [
    "## Randomisation Testing"
   ]
  },
  {
   "cell_type": "markdown",
   "metadata": {},
   "source": [
    "Now we have the result, how significant are they?"
   ]
  },
  {
   "cell_type": "markdown",
   "metadata": {},
   "source": [
    "`randomisation_test()`"
   ]
  },
  {
   "cell_type": "code",
   "execution_count": 20,
   "metadata": {},
   "outputs": [
    {
     "name": "stdout",
     "output_type": "stream",
     "text": [
      "Found a grid partition = 8\n",
      "Searching over the region spanning 24 hours\n",
      "\n",
      "====================\n",
      "Beginning Simulation\n",
      "====================\n",
      "Performing simulation 5 of 5.\n",
      "Time Elapsed: 402.278065402 seconds\n"
     ]
    }
   ],
   "source": [
    "sig_df, f_scores = randomisation_test(forecast_df, res_df, n_sims=5)"
   ]
  },
  {
   "cell_type": "markdown",
   "metadata": {},
   "source": [
    "Let's see how our scores from `res_df` compare with randomly generated ones. The `sig_df` dataframe has now populated the `p_value` columns of `res_df`."
   ]
  },
  {
   "cell_type": "code",
   "execution_count": 21,
   "metadata": {},
   "outputs": [
    {
     "data": {
      "text/html": [
       "<div>\n",
       "<style scoped>\n",
       "    .dataframe tbody tr th:only-of-type {\n",
       "        vertical-align: middle;\n",
       "    }\n",
       "\n",
       "    .dataframe tbody tr th {\n",
       "        vertical-align: top;\n",
       "    }\n",
       "\n",
       "    .dataframe thead th {\n",
       "        text-align: right;\n",
       "    }\n",
       "</style>\n",
       "<table border=\"1\" class=\"dataframe\">\n",
       "  <thead>\n",
       "    <tr style=\"text-align: right;\">\n",
       "      <th></th>\n",
       "      <th>x_min</th>\n",
       "      <th>x_max</th>\n",
       "      <th>y_min</th>\n",
       "      <th>y_max</th>\n",
       "      <th>t_min</th>\n",
       "      <th>t_max</th>\n",
       "      <th>B</th>\n",
       "      <th>C</th>\n",
       "      <th>likelihood_score</th>\n",
       "      <th>p_value</th>\n",
       "    </tr>\n",
       "  </thead>\n",
       "  <tbody>\n",
       "    <tr>\n",
       "      <th>15893</th>\n",
       "      <td>-0.262833</td>\n",
       "      <td>-0.250416</td>\n",
       "      <td>51.484608</td>\n",
       "      <td>51.495866</td>\n",
       "      <td>2020-06-04</td>\n",
       "      <td>2020-06-04 06:00:00</td>\n",
       "      <td>0.016349</td>\n",
       "      <td>0.027149</td>\n",
       "      <td>1.002974</td>\n",
       "      <td>0.000000</td>\n",
       "    </tr>\n",
       "    <tr>\n",
       "      <th>15892</th>\n",
       "      <td>-0.262833</td>\n",
       "      <td>-0.250416</td>\n",
       "      <td>51.484608</td>\n",
       "      <td>51.495866</td>\n",
       "      <td>2020-06-04</td>\n",
       "      <td>2020-06-04 05:00:00</td>\n",
       "      <td>0.009781</td>\n",
       "      <td>0.017857</td>\n",
       "      <td>1.002677</td>\n",
       "      <td>0.000000</td>\n",
       "    </tr>\n",
       "    <tr>\n",
       "      <th>15891</th>\n",
       "      <td>-0.262833</td>\n",
       "      <td>-0.250416</td>\n",
       "      <td>51.484608</td>\n",
       "      <td>51.495866</td>\n",
       "      <td>2020-06-04</td>\n",
       "      <td>2020-06-04 04:00:00</td>\n",
       "      <td>0.007159</td>\n",
       "      <td>0.014103</td>\n",
       "      <td>1.002622</td>\n",
       "      <td>0.000000</td>\n",
       "    </tr>\n",
       "    <tr>\n",
       "      <th>15898</th>\n",
       "      <td>-0.262833</td>\n",
       "      <td>-0.250416</td>\n",
       "      <td>51.484608</td>\n",
       "      <td>51.495866</td>\n",
       "      <td>2020-06-04</td>\n",
       "      <td>2020-06-04 11:00:00</td>\n",
       "      <td>0.070393</td>\n",
       "      <td>0.089597</td>\n",
       "      <td>1.002412</td>\n",
       "      <td>0.000000</td>\n",
       "    </tr>\n",
       "    <tr>\n",
       "      <th>15911</th>\n",
       "      <td>-0.262833</td>\n",
       "      <td>-0.250416</td>\n",
       "      <td>51.484608</td>\n",
       "      <td>51.495866</td>\n",
       "      <td>2020-06-04</td>\n",
       "      <td>2020-06-05 00:00:00</td>\n",
       "      <td>0.186017</td>\n",
       "      <td>0.216271</td>\n",
       "      <td>1.002340</td>\n",
       "      <td>0.000000</td>\n",
       "    </tr>\n",
       "    <tr>\n",
       "      <th>...</th>\n",
       "      <td>...</td>\n",
       "      <td>...</td>\n",
       "      <td>...</td>\n",
       "      <td>...</td>\n",
       "      <td>...</td>\n",
       "      <td>...</td>\n",
       "      <td>...</td>\n",
       "      <td>...</td>\n",
       "      <td>...</td>\n",
       "      <td>...</td>\n",
       "    </tr>\n",
       "    <tr>\n",
       "      <th>6268</th>\n",
       "      <td>-0.324916</td>\n",
       "      <td>-0.287666</td>\n",
       "      <td>51.450833</td>\n",
       "      <td>51.473349</td>\n",
       "      <td>2020-06-04</td>\n",
       "      <td>2020-06-04 05:00:00</td>\n",
       "      <td>0.024746</td>\n",
       "      <td>0.023080</td>\n",
       "      <td>1.000000</td>\n",
       "      <td>0.833333</td>\n",
       "    </tr>\n",
       "    <tr>\n",
       "      <th>6269</th>\n",
       "      <td>-0.324916</td>\n",
       "      <td>-0.287666</td>\n",
       "      <td>51.450833</td>\n",
       "      <td>51.473349</td>\n",
       "      <td>2020-06-04</td>\n",
       "      <td>2020-06-04 06:00:00</td>\n",
       "      <td>0.038790</td>\n",
       "      <td>0.036748</td>\n",
       "      <td>1.000000</td>\n",
       "      <td>0.833333</td>\n",
       "    </tr>\n",
       "    <tr>\n",
       "      <th>6270</th>\n",
       "      <td>-0.324916</td>\n",
       "      <td>-0.287666</td>\n",
       "      <td>51.450833</td>\n",
       "      <td>51.473349</td>\n",
       "      <td>2020-06-04</td>\n",
       "      <td>2020-06-04 07:00:00</td>\n",
       "      <td>0.060192</td>\n",
       "      <td>0.058408</td>\n",
       "      <td>1.000000</td>\n",
       "      <td>0.833333</td>\n",
       "    </tr>\n",
       "    <tr>\n",
       "      <th>6271</th>\n",
       "      <td>-0.324916</td>\n",
       "      <td>-0.287666</td>\n",
       "      <td>51.450833</td>\n",
       "      <td>51.473349</td>\n",
       "      <td>2020-06-04</td>\n",
       "      <td>2020-06-04 08:00:00</td>\n",
       "      <td>0.081009</td>\n",
       "      <td>0.080421</td>\n",
       "      <td>1.000000</td>\n",
       "      <td>0.833333</td>\n",
       "    </tr>\n",
       "    <tr>\n",
       "      <th>16223</th>\n",
       "      <td>-0.262833</td>\n",
       "      <td>-0.250416</td>\n",
       "      <td>51.529640</td>\n",
       "      <td>51.540898</td>\n",
       "      <td>2020-06-04</td>\n",
       "      <td>2020-06-05 00:00:00</td>\n",
       "      <td>0.008104</td>\n",
       "      <td>0.006937</td>\n",
       "      <td>1.000000</td>\n",
       "      <td>0.833333</td>\n",
       "    </tr>\n",
       "  </tbody>\n",
       "</table>\n",
       "<p>16224 rows × 10 columns</p>\n",
       "</div>"
      ],
      "text/plain": [
       "          x_min     x_max      y_min      y_max      t_min  \\\n",
       "15893 -0.262833 -0.250416  51.484608  51.495866 2020-06-04   \n",
       "15892 -0.262833 -0.250416  51.484608  51.495866 2020-06-04   \n",
       "15891 -0.262833 -0.250416  51.484608  51.495866 2020-06-04   \n",
       "15898 -0.262833 -0.250416  51.484608  51.495866 2020-06-04   \n",
       "15911 -0.262833 -0.250416  51.484608  51.495866 2020-06-04   \n",
       "...         ...       ...        ...        ...        ...   \n",
       "6268  -0.324916 -0.287666  51.450833  51.473349 2020-06-04   \n",
       "6269  -0.324916 -0.287666  51.450833  51.473349 2020-06-04   \n",
       "6270  -0.324916 -0.287666  51.450833  51.473349 2020-06-04   \n",
       "6271  -0.324916 -0.287666  51.450833  51.473349 2020-06-04   \n",
       "16223 -0.262833 -0.250416  51.529640  51.540898 2020-06-04   \n",
       "\n",
       "                    t_max         B         C  likelihood_score   p_value  \n",
       "15893 2020-06-04 06:00:00  0.016349  0.027149          1.002974  0.000000  \n",
       "15892 2020-06-04 05:00:00  0.009781  0.017857          1.002677  0.000000  \n",
       "15891 2020-06-04 04:00:00  0.007159  0.014103          1.002622  0.000000  \n",
       "15898 2020-06-04 11:00:00  0.070393  0.089597          1.002412  0.000000  \n",
       "15911 2020-06-05 00:00:00  0.186017  0.216271          1.002340  0.000000  \n",
       "...                   ...       ...       ...               ...       ...  \n",
       "6268  2020-06-04 05:00:00  0.024746  0.023080          1.000000  0.833333  \n",
       "6269  2020-06-04 06:00:00  0.038790  0.036748          1.000000  0.833333  \n",
       "6270  2020-06-04 07:00:00  0.060192  0.058408          1.000000  0.833333  \n",
       "6271  2020-06-04 08:00:00  0.081009  0.080421          1.000000  0.833333  \n",
       "16223 2020-06-05 00:00:00  0.008104  0.006937          1.000000  0.833333  \n",
       "\n",
       "[16224 rows x 10 columns]"
      ]
     },
     "execution_count": 21,
     "metadata": {},
     "output_type": "execute_result"
    }
   ],
   "source": [
    "sig_df"
   ]
  },
  {
   "cell_type": "markdown",
   "metadata": {},
   "source": [
    "We can now report on all regions with `p_value` less than some threshold i.e. 0.01"
   ]
  },
  {
   "cell_type": "code",
   "execution_count": 22,
   "metadata": {},
   "outputs": [
    {
     "data": {
      "text/html": [
       "<div>\n",
       "<style scoped>\n",
       "    .dataframe tbody tr th:only-of-type {\n",
       "        vertical-align: middle;\n",
       "    }\n",
       "\n",
       "    .dataframe tbody tr th {\n",
       "        vertical-align: top;\n",
       "    }\n",
       "\n",
       "    .dataframe thead th {\n",
       "        text-align: right;\n",
       "    }\n",
       "</style>\n",
       "<table border=\"1\" class=\"dataframe\">\n",
       "  <thead>\n",
       "    <tr style=\"text-align: right;\">\n",
       "      <th></th>\n",
       "      <th>x_min</th>\n",
       "      <th>x_max</th>\n",
       "      <th>y_min</th>\n",
       "      <th>y_max</th>\n",
       "      <th>t_min</th>\n",
       "      <th>t_max</th>\n",
       "      <th>B</th>\n",
       "      <th>C</th>\n",
       "      <th>likelihood_score</th>\n",
       "      <th>p_value</th>\n",
       "    </tr>\n",
       "  </thead>\n",
       "  <tbody>\n",
       "    <tr>\n",
       "      <th>15893</th>\n",
       "      <td>-0.262833</td>\n",
       "      <td>-0.250416</td>\n",
       "      <td>51.484608</td>\n",
       "      <td>51.495866</td>\n",
       "      <td>2020-06-04</td>\n",
       "      <td>2020-06-04 06:00:00</td>\n",
       "      <td>0.016349</td>\n",
       "      <td>0.027149</td>\n",
       "      <td>1.002974</td>\n",
       "      <td>0.0</td>\n",
       "    </tr>\n",
       "    <tr>\n",
       "      <th>15892</th>\n",
       "      <td>-0.262833</td>\n",
       "      <td>-0.250416</td>\n",
       "      <td>51.484608</td>\n",
       "      <td>51.495866</td>\n",
       "      <td>2020-06-04</td>\n",
       "      <td>2020-06-04 05:00:00</td>\n",
       "      <td>0.009781</td>\n",
       "      <td>0.017857</td>\n",
       "      <td>1.002677</td>\n",
       "      <td>0.0</td>\n",
       "    </tr>\n",
       "    <tr>\n",
       "      <th>15891</th>\n",
       "      <td>-0.262833</td>\n",
       "      <td>-0.250416</td>\n",
       "      <td>51.484608</td>\n",
       "      <td>51.495866</td>\n",
       "      <td>2020-06-04</td>\n",
       "      <td>2020-06-04 04:00:00</td>\n",
       "      <td>0.007159</td>\n",
       "      <td>0.014103</td>\n",
       "      <td>1.002622</td>\n",
       "      <td>0.0</td>\n",
       "    </tr>\n",
       "    <tr>\n",
       "      <th>15898</th>\n",
       "      <td>-0.262833</td>\n",
       "      <td>-0.250416</td>\n",
       "      <td>51.484608</td>\n",
       "      <td>51.495866</td>\n",
       "      <td>2020-06-04</td>\n",
       "      <td>2020-06-04 11:00:00</td>\n",
       "      <td>0.070393</td>\n",
       "      <td>0.089597</td>\n",
       "      <td>1.002412</td>\n",
       "      <td>0.0</td>\n",
       "    </tr>\n",
       "    <tr>\n",
       "      <th>15911</th>\n",
       "      <td>-0.262833</td>\n",
       "      <td>-0.250416</td>\n",
       "      <td>51.484608</td>\n",
       "      <td>51.495866</td>\n",
       "      <td>2020-06-04</td>\n",
       "      <td>2020-06-05 00:00:00</td>\n",
       "      <td>0.186017</td>\n",
       "      <td>0.216271</td>\n",
       "      <td>1.002340</td>\n",
       "      <td>0.0</td>\n",
       "    </tr>\n",
       "    <tr>\n",
       "      <th>...</th>\n",
       "      <td>...</td>\n",
       "      <td>...</td>\n",
       "      <td>...</td>\n",
       "      <td>...</td>\n",
       "      <td>...</td>\n",
       "      <td>...</td>\n",
       "      <td>...</td>\n",
       "      <td>...</td>\n",
       "      <td>...</td>\n",
       "      <td>...</td>\n",
       "    </tr>\n",
       "    <tr>\n",
       "      <th>16097</th>\n",
       "      <td>-0.262833</td>\n",
       "      <td>-0.250416</td>\n",
       "      <td>51.507124</td>\n",
       "      <td>51.518382</td>\n",
       "      <td>2020-06-04</td>\n",
       "      <td>2020-06-04 18:00:00</td>\n",
       "      <td>0.032933</td>\n",
       "      <td>0.033662</td>\n",
       "      <td>1.000008</td>\n",
       "      <td>0.0</td>\n",
       "    </tr>\n",
       "    <tr>\n",
       "      <th>13631</th>\n",
       "      <td>-0.287666</td>\n",
       "      <td>-0.262833</td>\n",
       "      <td>51.507124</td>\n",
       "      <td>51.529640</td>\n",
       "      <td>2020-06-04</td>\n",
       "      <td>2020-06-05 00:00:00</td>\n",
       "      <td>0.179391</td>\n",
       "      <td>0.181088</td>\n",
       "      <td>1.000008</td>\n",
       "      <td>0.0</td>\n",
       "    </tr>\n",
       "    <tr>\n",
       "      <th>13695</th>\n",
       "      <td>-0.287666</td>\n",
       "      <td>-0.262833</td>\n",
       "      <td>51.518382</td>\n",
       "      <td>51.540898</td>\n",
       "      <td>2020-06-04</td>\n",
       "      <td>2020-06-04 16:00:00</td>\n",
       "      <td>0.122604</td>\n",
       "      <td>0.124006</td>\n",
       "      <td>1.000008</td>\n",
       "      <td>0.0</td>\n",
       "    </tr>\n",
       "    <tr>\n",
       "      <th>10066</th>\n",
       "      <td>-0.300083</td>\n",
       "      <td>-0.287666</td>\n",
       "      <td>51.450833</td>\n",
       "      <td>51.495866</td>\n",
       "      <td>2020-06-04</td>\n",
       "      <td>2020-06-04 11:00:00</td>\n",
       "      <td>0.109364</td>\n",
       "      <td>0.110688</td>\n",
       "      <td>1.000008</td>\n",
       "      <td>0.0</td>\n",
       "    </tr>\n",
       "    <tr>\n",
       "      <th>8961</th>\n",
       "      <td>-0.312499</td>\n",
       "      <td>-0.275249</td>\n",
       "      <td>51.473349</td>\n",
       "      <td>51.495866</td>\n",
       "      <td>2020-06-04</td>\n",
       "      <td>2020-06-04 10:00:00</td>\n",
       "      <td>0.241777</td>\n",
       "      <td>0.243744</td>\n",
       "      <td>1.000008</td>\n",
       "      <td>0.0</td>\n",
       "    </tr>\n",
       "  </tbody>\n",
       "</table>\n",
       "<p>8890 rows × 10 columns</p>\n",
       "</div>"
      ],
      "text/plain": [
       "          x_min     x_max      y_min      y_max      t_min  \\\n",
       "15893 -0.262833 -0.250416  51.484608  51.495866 2020-06-04   \n",
       "15892 -0.262833 -0.250416  51.484608  51.495866 2020-06-04   \n",
       "15891 -0.262833 -0.250416  51.484608  51.495866 2020-06-04   \n",
       "15898 -0.262833 -0.250416  51.484608  51.495866 2020-06-04   \n",
       "15911 -0.262833 -0.250416  51.484608  51.495866 2020-06-04   \n",
       "...         ...       ...        ...        ...        ...   \n",
       "16097 -0.262833 -0.250416  51.507124  51.518382 2020-06-04   \n",
       "13631 -0.287666 -0.262833  51.507124  51.529640 2020-06-04   \n",
       "13695 -0.287666 -0.262833  51.518382  51.540898 2020-06-04   \n",
       "10066 -0.300083 -0.287666  51.450833  51.495866 2020-06-04   \n",
       "8961  -0.312499 -0.275249  51.473349  51.495866 2020-06-04   \n",
       "\n",
       "                    t_max         B         C  likelihood_score  p_value  \n",
       "15893 2020-06-04 06:00:00  0.016349  0.027149          1.002974      0.0  \n",
       "15892 2020-06-04 05:00:00  0.009781  0.017857          1.002677      0.0  \n",
       "15891 2020-06-04 04:00:00  0.007159  0.014103          1.002622      0.0  \n",
       "15898 2020-06-04 11:00:00  0.070393  0.089597          1.002412      0.0  \n",
       "15911 2020-06-05 00:00:00  0.186017  0.216271          1.002340      0.0  \n",
       "...                   ...       ...       ...               ...      ...  \n",
       "16097 2020-06-04 18:00:00  0.032933  0.033662          1.000008      0.0  \n",
       "13631 2020-06-05 00:00:00  0.179391  0.181088          1.000008      0.0  \n",
       "13695 2020-06-04 16:00:00  0.122604  0.124006          1.000008      0.0  \n",
       "10066 2020-06-04 11:00:00  0.109364  0.110688          1.000008      0.0  \n",
       "8961  2020-06-04 10:00:00  0.241777  0.243744          1.000008      0.0  \n",
       "\n",
       "[8890 rows x 10 columns]"
      ]
     },
     "execution_count": 22,
     "metadata": {},
     "output_type": "execute_result"
    }
   ],
   "source": [
    "sig_df[sig_df[\"p_value\"] < 0.01]"
   ]
  },
  {
   "cell_type": "markdown",
   "metadata": {},
   "source": [
    "Here, 2266 (most probably overlapping regions) are returned as signifiant space-time clusters"
   ]
  },
  {
   "cell_type": "code",
   "execution_count": 28,
   "metadata": {},
   "outputs": [
    {
     "data": {
      "image/png": "[encoded data removed]",
      "text/plain": [
       "<Figure size 432x288 with 1 Axes>"
      ]
     },
     "metadata": {
      "needs_background": "light"
     },
     "output_type": "display_data"
    }
   ],
   "source": [
    "plot_region_by_rank(100, sig_df, forecast_df, plot_type='cb_ratio', add_legend=False)"
   ]
  }
 ],
 "metadata": {
  "kernelspec": {
   "display_name": "Python 3",
   "language": "python",
   "name": "python3"
  },
  "language_info": {
   "codemirror_mode": {
    "name": "ipython",
    "version": 3
   },
   "file_extension": ".py",
   "mimetype": "text/x-python",
   "name": "python",
   "nbconvert_exporter": "python",
   "pygments_lexer": "ipython3",
   "version": "3.7.6"
  }
 },
 "nbformat": 4,
 "nbformat_minor": 4
}
