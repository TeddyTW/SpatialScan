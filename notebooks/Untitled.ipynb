{
 "cells": [
  {
   "cell_type": "code",
   "execution_count": 1,
   "metadata": {},
   "outputs": [
    {
     "name": "stderr",
     "output_type": "stream",
     "text": [
      "Using TensorFlow backend.\n",
      "C:\\Users\\t_tho\\anaconda3\\lib\\site-packages\\tensorflow\\python\\framework\\dtypes.py:526: FutureWarning: Passing (type, 1) or '1type' as a synonym of type is deprecated; in a future version of numpy, it will be understood as (type, (1,)) / '(1,)type'.\n",
      "  _np_qint8 = np.dtype([(\"qint8\", np.int8, 1)])\n",
      "C:\\Users\\t_tho\\anaconda3\\lib\\site-packages\\tensorflow\\python\\framework\\dtypes.py:527: FutureWarning: Passing (type, 1) or '1type' as a synonym of type is deprecated; in a future version of numpy, it will be understood as (type, (1,)) / '(1,)type'.\n",
      "  _np_quint8 = np.dtype([(\"quint8\", np.uint8, 1)])\n",
      "C:\\Users\\t_tho\\anaconda3\\lib\\site-packages\\tensorflow\\python\\framework\\dtypes.py:528: FutureWarning: Passing (type, 1) or '1type' as a synonym of type is deprecated; in a future version of numpy, it will be understood as (type, (1,)) / '(1,)type'.\n",
      "  _np_qint16 = np.dtype([(\"qint16\", np.int16, 1)])\n",
      "C:\\Users\\t_tho\\anaconda3\\lib\\site-packages\\tensorflow\\python\\framework\\dtypes.py:529: FutureWarning: Passing (type, 1) or '1type' as a synonym of type is deprecated; in a future version of numpy, it will be understood as (type, (1,)) / '(1,)type'.\n",
      "  _np_quint16 = np.dtype([(\"quint16\", np.uint16, 1)])\n",
      "C:\\Users\\t_tho\\anaconda3\\lib\\site-packages\\tensorflow\\python\\framework\\dtypes.py:530: FutureWarning: Passing (type, 1) or '1type' as a synonym of type is deprecated; in a future version of numpy, it will be understood as (type, (1,)) / '(1,)type'.\n",
      "  _np_qint32 = np.dtype([(\"qint32\", np.int32, 1)])\n",
      "C:\\Users\\t_tho\\anaconda3\\lib\\site-packages\\tensorflow\\python\\framework\\dtypes.py:535: FutureWarning: Passing (type, 1) or '1type' as a synonym of type is deprecated; in a future version of numpy, it will be understood as (type, (1,)) / '(1,)type'.\n",
      "  np_resource = np.dtype([(\"resource\", np.ubyte, 1)])\n"
     ]
    }
   ],
   "source": [
    "from __future__ import annotations\n",
    "import matplotlib.pyplot as plt\n",
    "import numpy as np\n",
    "import pandas as pd\n",
    "import scipy as sp\n",
    "import seaborn as sbn\n",
    "from typing import Any, List, Type\n",
    "from mpl_toolkits.mplot3d import Axes3D\n",
    "import matplotlib\n",
    "from datetime import datetime\n",
    "from sklearn.metrics import mean_squared_error\n",
    "import time\n",
    "import math\n",
    "from keras.models import Sequential\n",
    "from keras.layers import Dense\n",
    "from keras.layers import LSTM\n",
    "from sklearn.preprocessing import MinMaxScaler\n",
    "from sklearn.preprocessing import RobustScaler\n",
    "from sklearn.metrics import mean_squared_error\n",
    "import plotly.express as px\n",
    "from SpatialScan.timeseries import *\n",
    "from scipy.optimize import minimize"
   ]
  },
  {
   "cell_type": "code",
   "execution_count": 2,
   "metadata": {},
   "outputs": [],
   "source": [
    "df = pd.read_csv('ActonAprilJune.csv', index_col=False, infer_datetime_format=True, parse_dates=[4, 5])"
   ]
  },
  {
   "cell_type": "code",
   "execution_count": 3,
   "metadata": {},
   "outputs": [],
   "source": [
    "detectors=df.groupby(\"detector_id\").mean().index.to_numpy()"
   ]
  },
  {
   "cell_type": "code",
   "execution_count": 4,
   "metadata": {},
   "outputs": [],
   "source": [
    "df_d=df[df[\"detector_id\"]==detectors[3]]"
   ]
  },
  {
   "cell_type": "code",
   "execution_count": 5,
   "metadata": {},
   "outputs": [],
   "source": [
    "Y=count_baseline(df_d, 30, 1, method=\"HW\")"
   ]
  },
  {
   "cell_type": "code",
   "execution_count": 6,
   "metadata": {},
   "outputs": [
    {
     "name": "stdout",
     "output_type": "stream",
     "text": [
      "please wait:  1 / 1\r"
     ]
    }
   ],
   "source": [
    "Z=count_baseline(df_d, 30, 1, method=\"HWO\")"
   ]
  },
  {
   "cell_type": "code",
   "execution_count": 7,
   "metadata": {},
   "outputs": [
    {
     "data": {
      "text/plain": [
       "[<matplotlib.lines.Line2D at 0x2898061e648>]"
      ]
     },
     "execution_count": 7,
     "metadata": {},
     "output_type": "execute_result"
    },
    {
     "data": {
      "image/png": "[encoded data removed]",
      "text/plain": [
       "<Figure size 432x288 with 1 Axes>"
      ]
     },
     "metadata": {
      "needs_background": "light"
     },
     "output_type": "display_data"
    }
   ],
   "source": [
    "plt.plot(Z[\"count\"])\n",
    "plt.plot(Z[\"baseline\"])\n",
    "plt.plot(Y[\"baseline\"])"
   ]
  },
  {
   "cell_type": "code",
   "execution_count": 103,
   "metadata": {},
   "outputs": [
    {
     "data": {
      "text/plain": [
       "102.01718516513088"
      ]
     },
     "execution_count": 103,
     "metadata": {},
     "output_type": "execute_result"
    }
   ],
   "source": [
    "HW_RSME(params[\"x\"], df_d, 45)"
   ]
  },
  {
   "cell_type": "code",
   "execution_count": 104,
   "metadata": {},
   "outputs": [
    {
     "data": {
      "text/plain": [
       "124.89535390072294"
      ]
     },
     "execution_count": 104,
     "metadata": {},
     "output_type": "execute_result"
    }
   ],
   "source": [
    "HW_RSME([ 0.1 , 0.1,  0.1], df_d, 45)"
   ]
  },
  {
   "cell_type": "code",
   "execution_count": 28,
   "metadata": {},
   "outputs": [
    {
     "data": {
      "text/html": [
       "<div>\n",
       "<style scoped>\n",
       "    .dataframe tbody tr th:only-of-type {\n",
       "        vertical-align: middle;\n",
       "    }\n",
       "\n",
       "    .dataframe tbody tr th {\n",
       "        vertical-align: top;\n",
       "    }\n",
       "\n",
       "    .dataframe thead th {\n",
       "        text-align: right;\n",
       "    }\n",
       "</style>\n",
       "<table border=\"1\" class=\"dataframe\">\n",
       "  <thead>\n",
       "    <tr style=\"text-align: right;\">\n",
       "      <th></th>\n",
       "      <th>detector_id</th>\n",
       "      <th>lon</th>\n",
       "      <th>lat</th>\n",
       "      <th>measurement_start_utc</th>\n",
       "      <th>measurement_end_utc</th>\n",
       "      <th>n_vehicles_in_interval</th>\n",
       "    </tr>\n",
       "  </thead>\n",
       "  <tbody>\n",
       "    <tr>\n",
       "      <th>0</th>\n",
       "      <td>N01/036a2</td>\n",
       "      <td>-0.157803</td>\n",
       "      <td>51.512291</td>\n",
       "      <td>2020-06-05 00:00:00</td>\n",
       "      <td>2020-06-05 01:00:00</td>\n",
       "      <td>210.774744</td>\n",
       "    </tr>\n",
       "    <tr>\n",
       "      <th>1</th>\n",
       "      <td>N01/036a2</td>\n",
       "      <td>-0.157803</td>\n",
       "      <td>51.512291</td>\n",
       "      <td>2020-06-05 01:00:00</td>\n",
       "      <td>2020-06-05 02:00:00</td>\n",
       "      <td>149.070931</td>\n",
       "    </tr>\n",
       "    <tr>\n",
       "      <th>2</th>\n",
       "      <td>N01/036a2</td>\n",
       "      <td>-0.157803</td>\n",
       "      <td>51.512291</td>\n",
       "      <td>2020-06-05 02:00:00</td>\n",
       "      <td>2020-06-05 03:00:00</td>\n",
       "      <td>113.830963</td>\n",
       "    </tr>\n",
       "    <tr>\n",
       "      <th>3</th>\n",
       "      <td>N01/036a2</td>\n",
       "      <td>-0.157803</td>\n",
       "      <td>51.512291</td>\n",
       "      <td>2020-06-05 03:00:00</td>\n",
       "      <td>2020-06-05 04:00:00</td>\n",
       "      <td>105.943437</td>\n",
       "    </tr>\n",
       "    <tr>\n",
       "      <th>4</th>\n",
       "      <td>N01/036a2</td>\n",
       "      <td>-0.157803</td>\n",
       "      <td>51.512291</td>\n",
       "      <td>2020-06-05 04:00:00</td>\n",
       "      <td>2020-06-05 05:00:00</td>\n",
       "      <td>174.336016</td>\n",
       "    </tr>\n",
       "    <tr>\n",
       "      <th>5</th>\n",
       "      <td>N01/036a2</td>\n",
       "      <td>-0.157803</td>\n",
       "      <td>51.512291</td>\n",
       "      <td>2020-06-05 05:00:00</td>\n",
       "      <td>2020-06-05 06:00:00</td>\n",
       "      <td>566.325207</td>\n",
       "    </tr>\n",
       "    <tr>\n",
       "      <th>6</th>\n",
       "      <td>N01/036a2</td>\n",
       "      <td>-0.157803</td>\n",
       "      <td>51.512291</td>\n",
       "      <td>2020-06-05 06:00:00</td>\n",
       "      <td>2020-06-05 07:00:00</td>\n",
       "      <td>821.056487</td>\n",
       "    </tr>\n",
       "    <tr>\n",
       "      <th>7</th>\n",
       "      <td>N01/036a2</td>\n",
       "      <td>-0.157803</td>\n",
       "      <td>51.512291</td>\n",
       "      <td>2020-06-05 07:00:00</td>\n",
       "      <td>2020-06-05 08:00:00</td>\n",
       "      <td>832.603358</td>\n",
       "    </tr>\n",
       "    <tr>\n",
       "      <th>8</th>\n",
       "      <td>N01/036a2</td>\n",
       "      <td>-0.157803</td>\n",
       "      <td>51.512291</td>\n",
       "      <td>2020-06-05 08:00:00</td>\n",
       "      <td>2020-06-05 09:00:00</td>\n",
       "      <td>771.873597</td>\n",
       "    </tr>\n",
       "    <tr>\n",
       "      <th>9</th>\n",
       "      <td>N01/036a2</td>\n",
       "      <td>-0.157803</td>\n",
       "      <td>51.512291</td>\n",
       "      <td>2020-06-05 09:00:00</td>\n",
       "      <td>2020-06-05 10:00:00</td>\n",
       "      <td>761.712556</td>\n",
       "    </tr>\n",
       "    <tr>\n",
       "      <th>10</th>\n",
       "      <td>N01/036a2</td>\n",
       "      <td>-0.157803</td>\n",
       "      <td>51.512291</td>\n",
       "      <td>2020-06-05 10:00:00</td>\n",
       "      <td>2020-06-05 11:00:00</td>\n",
       "      <td>761.784289</td>\n",
       "    </tr>\n",
       "    <tr>\n",
       "      <th>11</th>\n",
       "      <td>N01/036a2</td>\n",
       "      <td>-0.157803</td>\n",
       "      <td>51.512291</td>\n",
       "      <td>2020-06-05 11:00:00</td>\n",
       "      <td>2020-06-05 12:00:00</td>\n",
       "      <td>787.669071</td>\n",
       "    </tr>\n",
       "    <tr>\n",
       "      <th>12</th>\n",
       "      <td>N01/036a2</td>\n",
       "      <td>-0.157803</td>\n",
       "      <td>51.512291</td>\n",
       "      <td>2020-06-05 12:00:00</td>\n",
       "      <td>2020-06-05 13:00:00</td>\n",
       "      <td>826.133542</td>\n",
       "    </tr>\n",
       "    <tr>\n",
       "      <th>13</th>\n",
       "      <td>N01/036a2</td>\n",
       "      <td>-0.157803</td>\n",
       "      <td>51.512291</td>\n",
       "      <td>2020-06-05 13:00:00</td>\n",
       "      <td>2020-06-05 14:00:00</td>\n",
       "      <td>814.074458</td>\n",
       "    </tr>\n",
       "    <tr>\n",
       "      <th>14</th>\n",
       "      <td>N01/036a2</td>\n",
       "      <td>-0.157803</td>\n",
       "      <td>51.512291</td>\n",
       "      <td>2020-06-05 14:00:00</td>\n",
       "      <td>2020-06-05 15:00:00</td>\n",
       "      <td>807.065531</td>\n",
       "    </tr>\n",
       "    <tr>\n",
       "      <th>15</th>\n",
       "      <td>N01/036a2</td>\n",
       "      <td>-0.157803</td>\n",
       "      <td>51.512291</td>\n",
       "      <td>2020-06-05 15:00:00</td>\n",
       "      <td>2020-06-05 16:00:00</td>\n",
       "      <td>864.422540</td>\n",
       "    </tr>\n",
       "    <tr>\n",
       "      <th>16</th>\n",
       "      <td>N01/036a2</td>\n",
       "      <td>-0.157803</td>\n",
       "      <td>51.512291</td>\n",
       "      <td>2020-06-05 16:00:00</td>\n",
       "      <td>2020-06-05 17:00:00</td>\n",
       "      <td>878.983090</td>\n",
       "    </tr>\n",
       "    <tr>\n",
       "      <th>17</th>\n",
       "      <td>N01/036a2</td>\n",
       "      <td>-0.157803</td>\n",
       "      <td>51.512291</td>\n",
       "      <td>2020-06-05 17:00:00</td>\n",
       "      <td>2020-06-05 18:00:00</td>\n",
       "      <td>871.176528</td>\n",
       "    </tr>\n",
       "    <tr>\n",
       "      <th>18</th>\n",
       "      <td>N01/036a2</td>\n",
       "      <td>-0.157803</td>\n",
       "      <td>51.512291</td>\n",
       "      <td>2020-06-05 18:00:00</td>\n",
       "      <td>2020-06-05 19:00:00</td>\n",
       "      <td>759.893941</td>\n",
       "    </tr>\n",
       "    <tr>\n",
       "      <th>19</th>\n",
       "      <td>N01/036a2</td>\n",
       "      <td>-0.157803</td>\n",
       "      <td>51.512291</td>\n",
       "      <td>2020-06-05 19:00:00</td>\n",
       "      <td>2020-06-05 20:00:00</td>\n",
       "      <td>656.890281</td>\n",
       "    </tr>\n",
       "    <tr>\n",
       "      <th>20</th>\n",
       "      <td>N01/036a2</td>\n",
       "      <td>-0.157803</td>\n",
       "      <td>51.512291</td>\n",
       "      <td>2020-06-05 20:00:00</td>\n",
       "      <td>2020-06-05 21:00:00</td>\n",
       "      <td>529.100851</td>\n",
       "    </tr>\n",
       "    <tr>\n",
       "      <th>21</th>\n",
       "      <td>N01/036a2</td>\n",
       "      <td>-0.157803</td>\n",
       "      <td>51.512291</td>\n",
       "      <td>2020-06-05 21:00:00</td>\n",
       "      <td>2020-06-05 22:00:00</td>\n",
       "      <td>475.615191</td>\n",
       "    </tr>\n",
       "    <tr>\n",
       "      <th>22</th>\n",
       "      <td>N01/036a2</td>\n",
       "      <td>-0.157803</td>\n",
       "      <td>51.512291</td>\n",
       "      <td>2020-06-05 22:00:00</td>\n",
       "      <td>2020-06-05 23:00:00</td>\n",
       "      <td>394.029061</td>\n",
       "    </tr>\n",
       "    <tr>\n",
       "      <th>23</th>\n",
       "      <td>N01/036a2</td>\n",
       "      <td>-0.157803</td>\n",
       "      <td>51.512291</td>\n",
       "      <td>2020-06-05 23:00:00</td>\n",
       "      <td>2020-06-06 00:00:00</td>\n",
       "      <td>295.200968</td>\n",
       "    </tr>\n",
       "  </tbody>\n",
       "</table>\n",
       "</div>"
      ],
      "text/plain": [
       "   detector_id       lon        lat measurement_start_utc measurement_end_utc  \\\n",
       "0    N01/036a2 -0.157803  51.512291   2020-06-05 00:00:00 2020-06-05 01:00:00   \n",
       "1    N01/036a2 -0.157803  51.512291   2020-06-05 01:00:00 2020-06-05 02:00:00   \n",
       "2    N01/036a2 -0.157803  51.512291   2020-06-05 02:00:00 2020-06-05 03:00:00   \n",
       "3    N01/036a2 -0.157803  51.512291   2020-06-05 03:00:00 2020-06-05 04:00:00   \n",
       "4    N01/036a2 -0.157803  51.512291   2020-06-05 04:00:00 2020-06-05 05:00:00   \n",
       "5    N01/036a2 -0.157803  51.512291   2020-06-05 05:00:00 2020-06-05 06:00:00   \n",
       "6    N01/036a2 -0.157803  51.512291   2020-06-05 06:00:00 2020-06-05 07:00:00   \n",
       "7    N01/036a2 -0.157803  51.512291   2020-06-05 07:00:00 2020-06-05 08:00:00   \n",
       "8    N01/036a2 -0.157803  51.512291   2020-06-05 08:00:00 2020-06-05 09:00:00   \n",
       "9    N01/036a2 -0.157803  51.512291   2020-06-05 09:00:00 2020-06-05 10:00:00   \n",
       "10   N01/036a2 -0.157803  51.512291   2020-06-05 10:00:00 2020-06-05 11:00:00   \n",
       "11   N01/036a2 -0.157803  51.512291   2020-06-05 11:00:00 2020-06-05 12:00:00   \n",
       "12   N01/036a2 -0.157803  51.512291   2020-06-05 12:00:00 2020-06-05 13:00:00   \n",
       "13   N01/036a2 -0.157803  51.512291   2020-06-05 13:00:00 2020-06-05 14:00:00   \n",
       "14   N01/036a2 -0.157803  51.512291   2020-06-05 14:00:00 2020-06-05 15:00:00   \n",
       "15   N01/036a2 -0.157803  51.512291   2020-06-05 15:00:00 2020-06-05 16:00:00   \n",
       "16   N01/036a2 -0.157803  51.512291   2020-06-05 16:00:00 2020-06-05 17:00:00   \n",
       "17   N01/036a2 -0.157803  51.512291   2020-06-05 17:00:00 2020-06-05 18:00:00   \n",
       "18   N01/036a2 -0.157803  51.512291   2020-06-05 18:00:00 2020-06-05 19:00:00   \n",
       "19   N01/036a2 -0.157803  51.512291   2020-06-05 19:00:00 2020-06-05 20:00:00   \n",
       "20   N01/036a2 -0.157803  51.512291   2020-06-05 20:00:00 2020-06-05 21:00:00   \n",
       "21   N01/036a2 -0.157803  51.512291   2020-06-05 21:00:00 2020-06-05 22:00:00   \n",
       "22   N01/036a2 -0.157803  51.512291   2020-06-05 22:00:00 2020-06-05 23:00:00   \n",
       "23   N01/036a2 -0.157803  51.512291   2020-06-05 23:00:00 2020-06-06 00:00:00   \n",
       "\n",
       "    n_vehicles_in_interval  \n",
       "0               210.774744  \n",
       "1               149.070931  \n",
       "2               113.830963  \n",
       "3               105.943437  \n",
       "4               174.336016  \n",
       "5               566.325207  \n",
       "6               821.056487  \n",
       "7               832.603358  \n",
       "8               771.873597  \n",
       "9               761.712556  \n",
       "10              761.784289  \n",
       "11              787.669071  \n",
       "12              826.133542  \n",
       "13              814.074458  \n",
       "14              807.065531  \n",
       "15              864.422540  \n",
       "16              878.983090  \n",
       "17              871.176528  \n",
       "18              759.893941  \n",
       "19              656.890281  \n",
       "20              529.100851  \n",
       "21              475.615191  \n",
       "22              394.029061  \n",
       "23              295.200968  "
      ]
     },
     "execution_count": 28,
     "metadata": {},
     "output_type": "execute_result"
    },
    {
     "data": {
      "image/png": "[encoded data removed]",
      "text/plain": [
       "<Figure size 432x288 with 1 Axes>"
      ]
     },
     "metadata": {
      "needs_background": "light"
     },
     "output_type": "display_data"
    }
   ],
   "source": [
    "holt_winters(df_d, 45, 1, display=True)"
   ]
  },
  {
   "cell_type": "code",
   "execution_count": 39,
   "metadata": {},
   "outputs": [
    {
     "data": {
      "text/plain": [
       "48.83190945269854"
      ]
     },
     "execution_count": 39,
     "metadata": {},
     "output_type": "execute_result"
    }
   ],
   "source": [
    "np.sqrt(RSME.mean())"
   ]
  },
  {
   "cell_type": "code",
   "execution_count": null,
   "metadata": {},
   "outputs": [],
   "source": []
  }
 ],
 "metadata": {
  "kernelspec": {
   "display_name": "Python 3",
   "language": "python",
   "name": "python3"
  },
  "language_info": {
   "codemirror_mode": {
    "name": "ipython",
    "version": 3
   },
   "file_extension": ".py",
   "mimetype": "text/x-python",
   "name": "python",
   "nbconvert_exporter": "python",
   "pygments_lexer": "ipython3",
   "version": "3.7.6"
  }
 },
 "nbformat": 4,
 "nbformat_minor": 4
}
