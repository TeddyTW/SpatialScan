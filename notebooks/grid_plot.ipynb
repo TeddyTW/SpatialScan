{
 "cells": [
  {
   "cell_type": "code",
   "execution_count": 1,
   "metadata": {},
   "outputs": [],
   "source": [
    "import pandas as pd\n",
    "from region import *\n",
    "from timeseries import *\n",
    "from scan import *\n",
    "import seaborn as sbn\n",
    "import plotly_express as px\n",
    "import matplotlib.pyplot as plt"
   ]
  },
  {
   "cell_type": "code",
   "execution_count": 2,
   "metadata": {},
   "outputs": [
    {
     "data": {
      "text/html": [
       "<div>\n",
       "<style scoped>\n",
       "    .dataframe tbody tr th:only-of-type {\n",
       "        vertical-align: middle;\n",
       "    }\n",
       "\n",
       "    .dataframe tbody tr th {\n",
       "        vertical-align: top;\n",
       "    }\n",
       "\n",
       "    .dataframe thead th {\n",
       "        text-align: right;\n",
       "    }\n",
       "</style>\n",
       "<table border=\"1\" class=\"dataframe\">\n",
       "  <thead>\n",
       "    <tr style=\"text-align: right;\">\n",
       "      <th></th>\n",
       "      <th>detector_id</th>\n",
       "      <th>lon</th>\n",
       "      <th>lat</th>\n",
       "      <th>measurement_start_utc</th>\n",
       "      <th>measurement_end_utc</th>\n",
       "      <th>baseline</th>\n",
       "      <th>count</th>\n",
       "    </tr>\n",
       "  </thead>\n",
       "  <tbody>\n",
       "    <tr>\n",
       "      <th>0</th>\n",
       "      <td>N24/012a1</td>\n",
       "      <td>-0.288008</td>\n",
       "      <td>51.481486</td>\n",
       "      <td>2020-06-03 00:00:00</td>\n",
       "      <td>2020-06-03 01:00:00</td>\n",
       "      <td>50.10</td>\n",
       "      <td>90.0</td>\n",
       "    </tr>\n",
       "    <tr>\n",
       "      <th>1</th>\n",
       "      <td>N24/012a1</td>\n",
       "      <td>-0.288008</td>\n",
       "      <td>51.481486</td>\n",
       "      <td>2020-06-03 01:00:00</td>\n",
       "      <td>2020-06-03 02:00:00</td>\n",
       "      <td>34.85</td>\n",
       "      <td>46.0</td>\n",
       "    </tr>\n",
       "    <tr>\n",
       "      <th>2</th>\n",
       "      <td>N24/012a1</td>\n",
       "      <td>-0.288008</td>\n",
       "      <td>51.481486</td>\n",
       "      <td>2020-06-03 02:00:00</td>\n",
       "      <td>2020-06-03 03:00:00</td>\n",
       "      <td>29.25</td>\n",
       "      <td>34.0</td>\n",
       "    </tr>\n",
       "    <tr>\n",
       "      <th>3</th>\n",
       "      <td>N24/012a1</td>\n",
       "      <td>-0.288008</td>\n",
       "      <td>51.481486</td>\n",
       "      <td>2020-06-03 03:00:00</td>\n",
       "      <td>2020-06-03 04:00:00</td>\n",
       "      <td>36.75</td>\n",
       "      <td>49.0</td>\n",
       "    </tr>\n",
       "    <tr>\n",
       "      <th>4</th>\n",
       "      <td>N24/012a1</td>\n",
       "      <td>-0.288008</td>\n",
       "      <td>51.481486</td>\n",
       "      <td>2020-06-03 04:00:00</td>\n",
       "      <td>2020-06-03 05:00:00</td>\n",
       "      <td>87.70</td>\n",
       "      <td>128.0</td>\n",
       "    </tr>\n",
       "    <tr>\n",
       "      <th>...</th>\n",
       "      <td>...</td>\n",
       "      <td>...</td>\n",
       "      <td>...</td>\n",
       "      <td>...</td>\n",
       "      <td>...</td>\n",
       "      <td>...</td>\n",
       "      <td>...</td>\n",
       "    </tr>\n",
       "    <tr>\n",
       "      <th>8635</th>\n",
       "      <td>N27/299a1</td>\n",
       "      <td>-0.308928</td>\n",
       "      <td>51.512572</td>\n",
       "      <td>2020-06-04 19:00:00</td>\n",
       "      <td>2020-06-04 20:00:00</td>\n",
       "      <td>400.75</td>\n",
       "      <td>450.0</td>\n",
       "    </tr>\n",
       "    <tr>\n",
       "      <th>8636</th>\n",
       "      <td>N27/299a1</td>\n",
       "      <td>-0.308928</td>\n",
       "      <td>51.512572</td>\n",
       "      <td>2020-06-04 20:00:00</td>\n",
       "      <td>2020-06-04 21:00:00</td>\n",
       "      <td>312.65</td>\n",
       "      <td>329.0</td>\n",
       "    </tr>\n",
       "    <tr>\n",
       "      <th>8637</th>\n",
       "      <td>N27/299a1</td>\n",
       "      <td>-0.308928</td>\n",
       "      <td>51.512572</td>\n",
       "      <td>2020-06-04 21:00:00</td>\n",
       "      <td>2020-06-04 22:00:00</td>\n",
       "      <td>271.95</td>\n",
       "      <td>263.0</td>\n",
       "    </tr>\n",
       "    <tr>\n",
       "      <th>8638</th>\n",
       "      <td>N27/299a1</td>\n",
       "      <td>-0.308928</td>\n",
       "      <td>51.512572</td>\n",
       "      <td>2020-06-04 22:00:00</td>\n",
       "      <td>2020-06-04 23:00:00</td>\n",
       "      <td>207.15</td>\n",
       "      <td>183.0</td>\n",
       "    </tr>\n",
       "    <tr>\n",
       "      <th>8639</th>\n",
       "      <td>N27/299a1</td>\n",
       "      <td>-0.308928</td>\n",
       "      <td>51.512572</td>\n",
       "      <td>2020-06-04 23:00:00</td>\n",
       "      <td>2020-06-05 00:00:00</td>\n",
       "      <td>159.85</td>\n",
       "      <td>148.0</td>\n",
       "    </tr>\n",
       "  </tbody>\n",
       "</table>\n",
       "<p>8640 rows × 7 columns</p>\n",
       "</div>"
      ],
      "text/plain": [
       "     detector_id       lon        lat measurement_start_utc  \\\n",
       "0      N24/012a1 -0.288008  51.481486   2020-06-03 00:00:00   \n",
       "1      N24/012a1 -0.288008  51.481486   2020-06-03 01:00:00   \n",
       "2      N24/012a1 -0.288008  51.481486   2020-06-03 02:00:00   \n",
       "3      N24/012a1 -0.288008  51.481486   2020-06-03 03:00:00   \n",
       "4      N24/012a1 -0.288008  51.481486   2020-06-03 04:00:00   \n",
       "...          ...       ...        ...                   ...   \n",
       "8635   N27/299a1 -0.308928  51.512572   2020-06-04 19:00:00   \n",
       "8636   N27/299a1 -0.308928  51.512572   2020-06-04 20:00:00   \n",
       "8637   N27/299a1 -0.308928  51.512572   2020-06-04 21:00:00   \n",
       "8638   N27/299a1 -0.308928  51.512572   2020-06-04 22:00:00   \n",
       "8639   N27/299a1 -0.308928  51.512572   2020-06-04 23:00:00   \n",
       "\n",
       "     measurement_end_utc  baseline  count  \n",
       "0    2020-06-03 01:00:00     50.10   90.0  \n",
       "1    2020-06-03 02:00:00     34.85   46.0  \n",
       "2    2020-06-03 03:00:00     29.25   34.0  \n",
       "3    2020-06-03 04:00:00     36.75   49.0  \n",
       "4    2020-06-03 05:00:00     87.70  128.0  \n",
       "...                  ...       ...    ...  \n",
       "8635 2020-06-04 20:00:00    400.75  450.0  \n",
       "8636 2020-06-04 21:00:00    312.65  329.0  \n",
       "8637 2020-06-04 22:00:00    271.95  263.0  \n",
       "8638 2020-06-04 23:00:00    207.15  183.0  \n",
       "8639 2020-06-05 00:00:00    159.85  148.0  \n",
       "\n",
       "[8640 rows x 7 columns]"
      ]
     },
     "execution_count": 2,
     "metadata": {},
     "output_type": "execute_result"
    }
   ],
   "source": [
    "df = pd.read_csv(\"ActonMay4MALD20_2.csv\")\n",
    "df = convert_dates(df)\n",
    "df\n"
   ]
  },
  {
   "cell_type": "code",
   "execution_count": 3,
   "metadata": {},
   "outputs": [],
   "source": [
    "def plot_region_grid(forecast_data: pd.DataFrame, time_slice: datetime, grid_partition: int) -> None:\n",
    "    global_region = infer_global_region(forecast_data)\n",
    "    x_ticks, y_ticks, t_ticks = make_grid(global_region, grid_partition)\n",
    "    forecast_data = forecast_data[forecast_data['measurement_end_utc'] == time_slice]\n",
    "    \n",
    "    sbn.scatterplot(data=forecast_data, x='lon', y='lat', size='baseline', legend=False)\n",
    "  \n",
    "    \n",
    "    for _, x in enumerate(x_ticks[1:-1]):\n",
    "        plt.axvline(x=x, alpha=0.4, c='k')\n",
    "    for _, y in enumerate(y_ticks[1:-1]):\n",
    "        plt.axhline(y=y, alpha=0.4, c='k')\n",
    "    plt.xlim([global_region.x_min, global_region.x_max])\n",
    "    plt.ylim([global_region.y_min, global_region.y_max])\n",
    "    return None"
   ]
  },
  {
   "cell_type": "code",
   "execution_count": 4,
   "metadata": {},
   "outputs": [
    {
     "data": {
      "text/plain": [
       "Timestamp('2020-06-03 03:00:00')"
      ]
     },
     "execution_count": 4,
     "metadata": {},
     "output_type": "execute_result"
    }
   ],
   "source": [
    "test_date = df['measurement_end_utc'][2]\n",
    "test_date"
   ]
  },
  {
   "cell_type": "code",
   "execution_count": 5,
   "metadata": {},
   "outputs": [
    {
     "data": {
      "image/png": "[encoded data removed]",
      "text/plain": [
       "<Figure size 432x288 with 1 Axes>"
      ]
     },
     "metadata": {
      "needs_background": "light"
     },
     "output_type": "display_data"
    }
   ],
   "source": [
    "plot_region_grid(df, test_date, 8)"
   ]
  }
 ],
 "metadata": {
  "kernelspec": {
   "display_name": "Python 3",
   "language": "python",
   "name": "python3"
  },
  "language_info": {
   "codemirror_mode": {
    "name": "ipython",
    "version": 3
   },
   "file_extension": ".py",
   "mimetype": "text/x-python",
   "name": "python",
   "nbconvert_exporter": "python",
   "pygments_lexer": "ipython3",
   "version": "3.7.6"
  }
 },
 "nbformat": 4,
 "nbformat_minor": 4
}
